{
 "cells": [
  {
   "cell_type": "markdown",
   "id": "35bc843c",
   "metadata": {},
   "source": [
    "# 브루트 포스"
   ]
  },
  {
   "cell_type": "markdown",
   "id": "4668d6e4",
   "metadata": {},
   "source": [
    "## 2798_블랙잭"
   ]
  },
  {
   "cell_type": "code",
   "execution_count": 21,
   "id": "de7fb5a1",
   "metadata": {
    "ExecuteTime": {
     "end_time": "2022-06-01T14:47:08.085458Z",
     "start_time": "2022-06-01T14:46:47.550806Z"
    }
   },
   "outputs": [
    {
     "name": "stdout",
     "output_type": "stream",
     "text": [
      "2 3\n",
      "1 2 3\n",
      "0\n"
     ]
    }
   ],
   "source": [
    "n,m = map(int, input().split())\n",
    "num_list = list(map(int, input().split()))\n",
    "result = 0\n",
    "for i in range(n):\n",
    "    for j in range(i+1, n):\n",
    "        for k in range(j+1, n):\n",
    "            if num_list[i] + num_list[j] + num_list[k] > m:\n",
    "                continue\n",
    "            else:\n",
    "                result = max(result, num_list[i] + num_list[j] + num_list[k])\n",
    "print(result)  "
   ]
  },
  {
   "cell_type": "markdown",
   "id": "c1ca0a77",
   "metadata": {},
   "source": [
    "## 2231_분해합"
   ]
  },
  {
   "cell_type": "code",
   "execution_count": 20,
   "id": "bfbbfb54",
   "metadata": {
    "ExecuteTime": {
     "end_time": "2022-06-01T14:35:36.350868Z",
     "start_time": "2022-06-01T14:35:31.645487Z"
    }
   },
   "outputs": [
    {
     "name": "stdout",
     "output_type": "stream",
     "text": [
      "216\n",
      "198\n"
     ]
    }
   ],
   "source": [
    "n = int(input())\n",
    "result = 0\n",
    "\n",
    "for i in range(1, n+1):\n",
    "    L = list(map(int, str(i)))\n",
    "    result = i + sum(L)\n",
    "    if result == n:\n",
    "        print(i)\n",
    "        break\n",
    "    \n",
    "    if i == n:\n",
    "        print(0)"
   ]
  },
  {
   "cell_type": "markdown",
   "id": "0e781dfd",
   "metadata": {},
   "source": [
    "## 7568_덩치"
   ]
  },
  {
   "cell_type": "code",
   "execution_count": 24,
   "id": "781db0c6",
   "metadata": {
    "ExecuteTime": {
     "end_time": "2022-06-01T15:04:09.931495Z",
     "start_time": "2022-06-01T15:03:41.176265Z"
    }
   },
   "outputs": [
    {
     "name": "stdout",
     "output_type": "stream",
     "text": [
      "5\n",
      "55 185\n",
      "58 183\n",
      "88 186\n",
      "60 175\n",
      "46 155\n",
      "2 2 1 2 5 "
     ]
    }
   ],
   "source": [
    "n = int(input())\n",
    "bodies = []\n",
    "\n",
    "for _ in range(n):\n",
    "    weight, height = map(int, input().split())\n",
    "    bodies.append((weight, height))\n",
    "\n",
    "for i in bodies:\n",
    "    k = 1 # 나보다 큰 사람이 없으면 1등\n",
    "    for j in bodies:\n",
    "        if i[0] < j[0] and i[1] < j[1]: #나보다 큰사람이 있을경우 한 등수씩 밀림\n",
    "            k += 1\n",
    "    print(k, end=' ')"
   ]
  },
  {
   "cell_type": "markdown",
   "id": "a16a1606",
   "metadata": {},
   "source": [
    "## 1018_체스판 다시 칠하기"
   ]
  },
  {
   "cell_type": "code",
   "execution_count": 41,
   "id": "d3ba1975",
   "metadata": {
    "ExecuteTime": {
     "end_time": "2022-06-02T08:14:25.609792Z",
     "start_time": "2022-06-02T08:13:53.897692Z"
    }
   },
   "outputs": [
    {
     "name": "stdout",
     "output_type": "stream",
     "text": [
      "10 13\n",
      "BBBBBBBBWBWBW\n",
      "BBBBBBBBBWBWB\n",
      "BBBBBBBBWBWBW\n",
      "BBBBBBBBBWBWB\n",
      "BBBBBBBBWBWBW\n",
      "BBBBBBBBBWBWB\n",
      "BBBBBBBBWBWBW\n",
      "BBBBBBBBBWBWB\n",
      "WWWWWWWWWWBWB\n",
      "WWWWWWWWWWBWB\n",
      "0\n"
     ]
    }
   ],
   "source": [
    "n,m = map(int, input().split())\n",
    "board = []\n",
    "\n",
    "for _ in range(n):\n",
    "    line = list(input())\n",
    "    board.append(line)\n",
    "\n",
    "cnt=0\n",
    "\n",
    "for i in range(n-1):\n",
    "    if board[i][0] != board[i+1][0]:\n",
    "        continue\n",
    "    else:\n",
    "        if board[i][0] == 'W':\n",
    "            board[i+1][0] = 'B'\n",
    "        else:\n",
    "            board[i+1][0] = 'W'\n",
    "        cnt += 1\n",
    "\n",
    "for i in range(n):\n",
    "    for j in range(m-1):\n",
    "        if board[i][j] != board[i][j+1]:\n",
    "            continue\n",
    "        else:\n",
    "            if board[i][j] == 'W':\n",
    "                board[i][j+1] = 'B'\n",
    "            else:\n",
    "                board[i][j+1] = 'W'\n",
    "            cnt += 1\n",
    "            \n",
    "print(cnt)"
   ]
  },
  {
   "cell_type": "markdown",
   "id": "0cce9ce4",
   "metadata": {},
   "source": [
    "## 1436_영화감독 숌"
   ]
  },
  {
   "cell_type": "code",
   "execution_count": 5,
   "id": "47bad943",
   "metadata": {
    "ExecuteTime": {
     "end_time": "2022-06-05T15:09:57.794673Z",
     "start_time": "2022-06-05T15:09:21.546791Z"
    },
    "scrolled": true
   },
   "outputs": [
    {
     "name": "stdout",
     "output_type": "stream",
     "text": [
      "10 13\n",
      "BBBBBBBBWBWBW\n",
      "BBBBBBBBBWBWB\n",
      "BBBBBBBBWBWBW\n",
      "BBBBBBBBBWBWB\n",
      "BBBBBBBBWBWBW\n",
      "BBBBBBBBBWBWB\n",
      "BBBBBBBBWBWBW\n",
      "BBBBBBBBBWBWB\n",
      "WWWWWWWWWWBWB\n",
      "WWWWWWWWWWBWB\n",
      "12\n"
     ]
    }
   ],
   "source": [
    "n,m = map(int, input().split())\n",
    "board = []\n",
    "\n",
    "for _ in range(n):\n",
    "    board.append(input())\n",
    "\n",
    "repair = []\n",
    "\n",
    "for i in range(n-7): # 전체 체스판의 가로열 시작점\n",
    "    for j in range(m-7): # 전체 체스판의 세로열 시작점\n",
    "        \n",
    "        first_W = 0 # 흰색으로 시작한 경우\n",
    "        first_B = 0 # 검은색으로 시작한 경우\n",
    "        \n",
    "        for k in range(i,i+8):\n",
    "            for l in range(j,j+8):\n",
    "                if (k+l) % 2 == 0:\n",
    "                    if board[k][l] != \"W\":\n",
    "                        first_W += 1\n",
    "                    if board[k][l] != 'B':\n",
    "                        first_B += 1\n",
    "                else:\n",
    "                    if board[k][l] != \"B\":\n",
    "                        first_W += 1\n",
    "                    if board[k][l] != 'W':\n",
    "                        first_B += 1\n",
    "\n",
    "        repair.append(first_W)\n",
    "        repair.append(first_B)\n",
    "print(min(repair))"
   ]
  },
  {
   "cell_type": "code",
   "execution_count": 8,
   "id": "44f14567",
   "metadata": {
    "ExecuteTime": {
     "end_time": "2022-06-06T14:11:20.045296Z",
     "start_time": "2022-06-06T14:11:19.058826Z"
    }
   },
   "outputs": [
    {
     "name": "stdout",
     "output_type": "stream",
     "text": [
      "5\n",
      "4666\n"
     ]
    }
   ],
   "source": [
    "n = int(input())\n",
    "end_day = 666\n",
    "cnt = 0\n",
    "\n",
    "while True:\n",
    "    if '666' in str(end_day):\n",
    "        cnt += 1\n",
    "    if cnt == n:\n",
    "        print(end_day)\n",
    "        break\n",
    "    end_day += 1"
   ]
  },
  {
   "cell_type": "code",
   "execution_count": null,
   "id": "ae838c94",
   "metadata": {},
   "outputs": [],
   "source": []
  }
 ],
 "metadata": {
  "hide_input": false,
  "kernelspec": {
   "display_name": "study",
   "language": "python",
   "name": "study"
  },
  "language_info": {
   "codemirror_mode": {
    "name": "ipython",
    "version": 3
   },
   "file_extension": ".py",
   "mimetype": "text/x-python",
   "name": "python",
   "nbconvert_exporter": "python",
   "pygments_lexer": "ipython3",
   "version": "3.9.10"
  },
  "toc": {
   "base_numbering": 1,
   "nav_menu": {},
   "number_sections": true,
   "sideBar": true,
   "skip_h1_title": false,
   "title_cell": "Table of Contents",
   "title_sidebar": "Contents",
   "toc_cell": false,
   "toc_position": {},
   "toc_section_display": true,
   "toc_window_display": false
  },
  "varInspector": {
   "cols": {
    "lenName": 16,
    "lenType": 16,
    "lenVar": 40
   },
   "kernels_config": {
    "python": {
     "delete_cmd_postfix": "",
     "delete_cmd_prefix": "del ",
     "library": "var_list.py",
     "varRefreshCmd": "print(var_dic_list())"
    },
    "r": {
     "delete_cmd_postfix": ") ",
     "delete_cmd_prefix": "rm(",
     "library": "var_list.r",
     "varRefreshCmd": "cat(var_dic_list()) "
    }
   },
   "types_to_exclude": [
    "module",
    "function",
    "builtin_function_or_method",
    "instance",
    "_Feature"
   ],
   "window_display": false
  }
 },
 "nbformat": 4,
 "nbformat_minor": 5
}
