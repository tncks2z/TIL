{
 "cells": [
  {
   "cell_type": "markdown",
   "id": "7054a019",
   "metadata": {},
   "source": [
    "# 11047_동전 0"
   ]
  },
  {
   "cell_type": "code",
   "execution_count": 4,
   "id": "f45e5315",
   "metadata": {
    "ExecuteTime": {
     "end_time": "2022-06-29T08:43:51.581716Z",
     "start_time": "2022-06-29T08:43:28.535603Z"
    }
   },
   "outputs": [
    {
     "name": "stdout",
     "output_type": "stream",
     "text": [
      "10 4790\n",
      "1\n",
      "5\n",
      "10\n",
      "50\n",
      "100\n",
      "500\n",
      "1000\n",
      "5000\n",
      "10000\n",
      "50000\n",
      "12\n"
     ]
    }
   ],
   "source": [
    "n,k = map(int, input().split())\n",
    "coins = list()\n",
    "\n",
    "for _ in range(n):\n",
    "    coin = int(input())\n",
    "    coins.append(coin)\n",
    "\n",
    "result = 0\n",
    "\n",
    "for coin in sorted(coins,reverse=True):\n",
    "    if k // coin == 0:\n",
    "        continue\n",
    "    num = k // coin\n",
    "    result += num\n",
    "    k = k % coin\n",
    "    \n",
    "print(result)"
   ]
  },
  {
   "cell_type": "markdown",
   "id": "61ca39be",
   "metadata": {},
   "source": [
    "# 1931_회의실 배정"
   ]
  },
  {
   "cell_type": "code",
   "execution_count": null,
   "id": "e91a0248",
   "metadata": {},
   "outputs": [],
   "source": [
    "n = int(input())\n",
    "meetings = []\n",
    "\n",
    "for _ in range(n):\n",
    "    start, end = map(int, input().split())\n",
    "    meetings.append([start, end])\n",
    "\n",
    "# 시작 시간으로 먼저 오름차순\n",
    "meetings = sorted(meetings, key=lambda x: x[0])\n",
    "# 그 다음 끝나는 시간으로 오름차순\n",
    "meetings = sorted(meetings, key=lambda x: x[1])\n",
    "\n",
    "cnt = 0\n",
    "last = 0\n",
    "\n",
    "for op,ed in meetings:\n",
    "    if op >= last:\n",
    "        cnt += 1\n",
    "        last = ed\n",
    "\n",
    "print(cnt)"
   ]
  },
  {
   "cell_type": "markdown",
   "id": "5d8353fe",
   "metadata": {},
   "source": [
    "# 11399_ATM"
   ]
  },
  {
   "cell_type": "code",
   "execution_count": 5,
   "id": "9fe9d041",
   "metadata": {
    "ExecuteTime": {
     "end_time": "2022-06-29T09:31:31.154792Z",
     "start_time": "2022-06-29T09:31:26.162150Z"
    }
   },
   "outputs": [
    {
     "name": "stdout",
     "output_type": "stream",
     "text": [
      "5\n",
      "3 1 4 3 2\n",
      "32\n"
     ]
    }
   ],
   "source": [
    "n = int(input())\n",
    "times = list(map(int, input().split()))\n",
    "\n",
    "times = sorted(times)\n",
    "\n",
    "result = 0\n",
    "results = []\n",
    "for time in times:\n",
    "    result += time\n",
    "    results.append(result)\n",
    "    \n",
    "print(sum(results))"
   ]
  },
  {
   "cell_type": "markdown",
   "id": "93bacbfe",
   "metadata": {},
   "source": [
    "# 1541_잃어버린 괄호"
   ]
  },
  {
   "cell_type": "code",
   "execution_count": 37,
   "id": "64691524",
   "metadata": {
    "ExecuteTime": {
     "end_time": "2022-07-02T03:46:49.654641Z",
     "start_time": "2022-07-02T03:46:46.095380Z"
    }
   },
   "outputs": [
    {
     "name": "stdout",
     "output_type": "stream",
     "text": [
      "1-3+3-1\n",
      "-6\n"
     ]
    }
   ],
   "source": [
    "formula = input().split('-') # 빼기 기준으로 쪼개기\n",
    "\n",
    "ans = 0\n",
    "# 첫번째 빼기가 나오기 전 '+' 계산\n",
    "for i in formula[0].split('+'):\n",
    "    ans += int(i)\n",
    "    \n",
    "for i in formula[1:]:\n",
    "    for j in i.split(\"+\"):\n",
    "        ans -= int(j)\n",
    "    \n",
    "print(ans)"
   ]
  },
  {
   "cell_type": "code",
   "execution_count": 42,
   "id": "f69405bb",
   "metadata": {
    "ExecuteTime": {
     "end_time": "2022-07-04T04:17:04.644233Z",
     "start_time": "2022-07-04T04:16:56.078663Z"
    }
   },
   "outputs": [
    {
     "name": "stdout",
     "output_type": "stream",
     "text": [
      "1-03+02-1\n",
      "-5\n"
     ]
    }
   ],
   "source": [
    "formula = input().split(\"-\")\n",
    "\n",
    "minus_num = []\n",
    "for i in formula:\n",
    "    ans = 0\n",
    "    for j in i.split(\"+\"):\n",
    "        ans += int(j)\n",
    "    minus_num.append(ans)\n",
    "\n",
    "result = minus_num[0]\n",
    "for num in minus_num[1:]:\n",
    "    result -= int(num)\n",
    "\n",
    "print(result)"
   ]
  },
  {
   "cell_type": "markdown",
   "id": "61478af2",
   "metadata": {},
   "source": [
    "# 13305_주유소"
   ]
  },
  {
   "cell_type": "code",
   "execution_count": 44,
   "id": "dc5658f9",
   "metadata": {
    "ExecuteTime": {
     "end_time": "2022-07-06T06:30:15.465666Z",
     "start_time": "2022-07-06T06:30:09.859876Z"
    }
   },
   "outputs": [
    {
     "name": "stdout",
     "output_type": "stream",
     "text": [
      "4\n",
      "2 3 1\n",
      "5 2 4 1\n",
      "1\n"
     ]
    }
   ],
   "source": [
    "n = int(input())\n",
    "distances = list(map(int, input().split()))\n",
    "costs = list(map(int, input().split()))\n",
    "\n",
    "result = distances[0] * costs[0]\n",
    "costs_min = costs[0]\n",
    "\n",
    "for i in range(1,n-1):\n",
    "    if cost[i] < cost[0]:\n",
    "        result += cost[i]\n",
    "        "
   ]
  },
  {
   "cell_type": "code",
   "execution_count": null,
   "id": "5b8e30ed",
   "metadata": {},
   "outputs": [],
   "source": []
  }
 ],
 "metadata": {
  "hide_input": false,
  "kernelspec": {
   "display_name": "study",
   "language": "python",
   "name": "study"
  },
  "language_info": {
   "codemirror_mode": {
    "name": "ipython",
    "version": 3
   },
   "file_extension": ".py",
   "mimetype": "text/x-python",
   "name": "python",
   "nbconvert_exporter": "python",
   "pygments_lexer": "ipython3",
   "version": "3.9.10"
  },
  "toc": {
   "base_numbering": 1,
   "nav_menu": {},
   "number_sections": true,
   "sideBar": true,
   "skip_h1_title": false,
   "title_cell": "Table of Contents",
   "title_sidebar": "Contents",
   "toc_cell": false,
   "toc_position": {},
   "toc_section_display": true,
   "toc_window_display": false
  },
  "varInspector": {
   "cols": {
    "lenName": 16,
    "lenType": 16,
    "lenVar": 40
   },
   "kernels_config": {
    "python": {
     "delete_cmd_postfix": "",
     "delete_cmd_prefix": "del ",
     "library": "var_list.py",
     "varRefreshCmd": "print(var_dic_list())"
    },
    "r": {
     "delete_cmd_postfix": ") ",
     "delete_cmd_prefix": "rm(",
     "library": "var_list.r",
     "varRefreshCmd": "cat(var_dic_list()) "
    }
   },
   "position": {
    "height": "342.7309875488281px",
    "left": "523.6549072265625px",
    "right": "20px",
    "top": "120px",
    "width": "350.2581481933594px"
   },
   "types_to_exclude": [
    "module",
    "function",
    "builtin_function_or_method",
    "instance",
    "_Feature"
   ],
   "window_display": false
  }
 },
 "nbformat": 4,
 "nbformat_minor": 5
}
