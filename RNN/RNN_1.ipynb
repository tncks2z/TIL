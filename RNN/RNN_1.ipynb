{
 "cells": [
  {
   "cell_type": "code",
   "execution_count": 84,
   "id": "81312367",
   "metadata": {},
   "outputs": [],
   "source": [
    "import numpy as np\n",
    "import tensorflow as tf\n",
    "from tensorflow.keras import layers, Sequential, Model"
   ]
  },
  {
   "cell_type": "code",
   "execution_count": 3,
   "id": "02ab8801",
   "metadata": {},
   "outputs": [],
   "source": [
    "tf.random.set_seed(42) # 랜덤셋 고정"
   ]
  },
  {
   "cell_type": "code",
   "execution_count": 108,
   "id": "8eb238e1",
   "metadata": {},
   "outputs": [],
   "source": [
    "h = [1, 0, 0, 0]\n",
    "e = [0, 1, 0, 0]\n",
    "l = [0, 0, 1, 0]\n",
    "o = [0, 0, 0, 1]"
   ]
  },
  {
   "cell_type": "code",
   "execution_count": 105,
   "id": "a07d421c",
   "metadata": {},
   "outputs": [
    {
     "data": {
      "text/plain": [
       "(1, 1, 4)"
      ]
     },
     "execution_count": 105,
     "metadata": {},
     "output_type": "execute_result"
    }
   ],
   "source": [
    "x_data = np.array([[h]], dtype=np.float32)\n",
    "x_data.shape"
   ]
  },
  {
   "cell_type": "code",
   "execution_count": 106,
   "id": "48ba5d1b",
   "metadata": {},
   "outputs": [
    {
     "data": {
      "text/plain": [
       "(1, 5, 4)"
      ]
     },
     "execution_count": 106,
     "metadata": {},
     "output_type": "execute_result"
    }
   ],
   "source": [
    "x_data = np.array([[h, e, l, l, o]], dtype=np.float32)\n",
    "x_data.shape"
   ]
  },
  {
   "cell_type": "code",
   "execution_count": 20,
   "id": "e4d71784",
   "metadata": {
    "scrolled": false
   },
   "outputs": [
    {
     "name": "stdout",
     "output_type": "stream",
     "text": [
      "<x_data>\n",
      "[[[1. 0. 0. 0.]\n",
      "  [0. 1. 0. 0.]\n",
      "  [0. 0. 1. 0.]\n",
      "  [0. 0. 1. 0.]\n",
      "  [0. 0. 0. 1.]]] \t\t\tshape : (1, 5, 4)\n",
      "<outputs>\n",
      "[[[ 0.33639172 -0.64969087]\n",
      "  [ 0.00450858  0.53531694]\n",
      "  [ 0.8894953  -0.67754936]\n",
      "  [ 0.4349966   0.32322162]\n",
      "  [ 0.8242993   0.69675964]]] \t\tshape : (1, 5, 2)\n",
      "<state>\n",
      "[[0.8242993  0.69675964]] \t\tshape : (1, 2)\n"
     ]
    }
   ],
   "source": [
    "hidden_size = 2\n",
    "cell = layers.SimpleRNNCell(hidden_size)\n",
    "rnn = layers.RNN(cell, return_sequences=True, return_state=True)\n",
    "outputs, state = rnn(x_data)\n",
    "\n",
    "print('x_data\\n{} \\t\\t\\tshape : {}'.format(x_data,x_data.shape))\n",
    "print('outputs\\n{} \\t\\tshape : {}'.format(outputs,outputs.shape))\n",
    "print('state\\n{} \\t\\tshape : {}'.format(state,state.shape))"
   ]
  },
  {
   "cell_type": "code",
   "execution_count": 23,
   "id": "e4f886fb",
   "metadata": {},
   "outputs": [
    {
     "data": {
      "text/plain": [
       "array([[[1., 0., 0., 0.],\n",
       "        [0., 1., 0., 0.],\n",
       "        [0., 0., 1., 0.],\n",
       "        [0., 0., 1., 0.],\n",
       "        [0., 0., 0., 1.]],\n",
       "\n",
       "       [[0., 1., 0., 0.],\n",
       "        [0., 0., 0., 1.],\n",
       "        [0., 0., 1., 0.],\n",
       "        [0., 0., 1., 0.],\n",
       "        [0., 0., 1., 0.]],\n",
       "\n",
       "       [[0., 0., 1., 0.],\n",
       "        [0., 0., 1., 0.],\n",
       "        [0., 1., 0., 0.],\n",
       "        [0., 1., 0., 0.],\n",
       "        [0., 0., 1., 0.]]], dtype=float32)"
      ]
     },
     "execution_count": 23,
     "metadata": {},
     "output_type": "execute_result"
    }
   ],
   "source": [
    "x_data = np.array([[h, e, l, l, o],[e, o, l, l, l],[l, l, e, e, l]],dtype=np.float32)\n",
    "x_data"
   ]
  },
  {
   "cell_type": "code",
   "execution_count": 27,
   "id": "b29c8faf",
   "metadata": {},
   "outputs": [
    {
     "name": "stdout",
     "output_type": "stream",
     "text": [
      "x_data\n",
      "[[[1. 0. 0. 0.]\n",
      "  [0. 1. 0. 0.]\n",
      "  [0. 0. 1. 0.]\n",
      "  [0. 0. 1. 0.]\n",
      "  [0. 0. 0. 1.]]\n",
      "\n",
      " [[0. 1. 0. 0.]\n",
      "  [0. 0. 0. 1.]\n",
      "  [0. 0. 1. 0.]\n",
      "  [0. 0. 1. 0.]\n",
      "  [0. 0. 1. 0.]]\n",
      "\n",
      " [[0. 0. 1. 0.]\n",
      "  [0. 0. 1. 0.]\n",
      "  [0. 1. 0. 0.]\n",
      "  [0. 1. 0. 0.]\n",
      "  [0. 0. 1. 0.]]] \t\t\tshape : (3, 5, 4)\n",
      "\n",
      "outputs\n",
      "[[[ 0.5270306  -0.5239155 ]\n",
      "  [ 0.66856146 -0.28161973]\n",
      "  [ 0.7784079   0.18724072]\n",
      "  [ 0.6162256  -0.16664386]\n",
      "  [ 0.7961074  -0.0594871 ]]\n",
      "\n",
      " [[ 0.07702818 -0.15421602]\n",
      "  [ 0.6469817   0.3594086 ]\n",
      "  [ 0.46409488 -0.1571721 ]\n",
      "  [ 0.6764092   0.27883214]\n",
      "  [ 0.52664    -0.135844  ]]\n",
      "\n",
      " [[ 0.40417162  0.52115506]\n",
      "  [ 0.22712572 -0.05128701]\n",
      "  [ 0.24385802 -0.30292925]\n",
      "  [ 0.43422854 -0.18091701]\n",
      "  [ 0.67774385  0.31356192]]] \t\tshape : (3, 5, 2)\n",
      "\n",
      "state\n",
      "[[ 0.7961074  -0.0594871 ]\n",
      " [ 0.52664    -0.135844  ]\n",
      " [ 0.67774385  0.31356192]] \t\tshape : (3, 2)\n"
     ]
    }
   ],
   "source": [
    "hidden_size = 2\n",
    "rnn = layers.SimpleRNN(units=hidden_size, return_sequences=True, return_state=True)\n",
    "outputs, state = rnn(x_data)\n",
    "\n",
    "print('x_data\\n{} \\t\\t\\tshape : {}'.format(x_data,x_data.shape))\n",
    "print()\n",
    "print('outputs\\n{} \\t\\tshape : {}'.format(outputs,outputs.shape))\n",
    "print()\n",
    "print('state\\n{} \\t\\tshape : {}'.format(state,state.shape))"
   ]
  },
  {
   "cell_type": "code",
   "execution_count": 34,
   "id": "621cc607",
   "metadata": {
    "scrolled": true
   },
   "outputs": [
    {
     "data": {
      "text/plain": [
       "(array([[[1., 0., 0., 0., 0.],\n",
       "         [1., 0., 0., 0., 0.],\n",
       "         [0., 1., 0., 0., 0.],\n",
       "         [0., 0., 1., 0., 0.],\n",
       "         [0., 0., 0., 0., 1.],\n",
       "         [0., 0., 0., 1., 0.]]], dtype=float32),\n",
       " array([[[1., 0., 0., 0., 0.],\n",
       "         [0., 1., 0., 0., 0.],\n",
       "         [1., 0., 0., 0., 0.],\n",
       "         [0., 0., 1., 0., 0.],\n",
       "         [0., 0., 0., 1., 0.],\n",
       "         [0., 0., 0., 0., 1.]]], dtype=float32))"
      ]
     },
     "execution_count": 34,
     "metadata": {},
     "output_type": "execute_result"
    }
   ],
   "source": [
    "idx2char = ['토', '마', '를', '먹', '자']\n",
    "\n",
    "x_data = [[0, 0, 1, 2, 4, 3]] # 토 토 마 를 자 먹  # 트레인값\n",
    "y_data = [[0, 1, 0, 2, 3, 4]] # 토 마 토 를 먹 자  # 라벨값\n",
    "\n",
    "num_class = 5 # class 의 갯수\n",
    "input_dim = 5 # word embedding dimension\n",
    "sequence_length = 6 # 들어가는 단어 갯수\n",
    "learning_rate = 0.1\n",
    "\n",
    "x_one_hot = tf.keras.utils.to_categorical(x_data, num_classes=num_class)\n",
    "y_one_hot = tf.keras.utils.to_categorical(y_data, num_classes=num_class)\n",
    "\n",
    "x_one_hot, y_one_hot"
   ]
  },
  {
   "cell_type": "code",
   "execution_count": 35,
   "id": "51efbd97",
   "metadata": {},
   "outputs": [
    {
     "data": {
      "text/plain": [
       "((1, 6, 5), (1, 6, 5))"
      ]
     },
     "execution_count": 35,
     "metadata": {},
     "output_type": "execute_result"
    }
   ],
   "source": [
    "x_one_hot.shape, y_one_hot.shape"
   ]
  },
  {
   "cell_type": "code",
   "execution_count": 30,
   "id": "32fdb5eb",
   "metadata": {},
   "outputs": [
    {
     "name": "stdout",
     "output_type": "stream",
     "text": [
      "Model: \"sequential\"\n",
      "_________________________________________________________________\n",
      " Layer (type)                Output Shape              Param #   \n",
      "=================================================================\n",
      " rnn_9 (RNN)                 (None, 6, 5)              55        \n",
      "                                                                 \n",
      " time_distributed (TimeDistr  (None, 6, 5)             30        \n",
      " ibuted)                                                         \n",
      "                                                                 \n",
      "=================================================================\n",
      "Total params: 85\n",
      "Trainable params: 85\n",
      "Non-trainable params: 0\n",
      "_________________________________________________________________\n"
     ]
    }
   ],
   "source": [
    "model = tf.keras.Sequential()\n",
    "cell = layers.SimpleRNNCell(units=5, input_shape=(sequence_length, input_dim))\n",
    "\n",
    "model.add(layers.RNN(cell=cell, return_sequences=True, return_state=False,\n",
    "                     input_shape=(sequence_length, input_dim)))\n",
    "# TimeDistributed : 중간중간 아웃풋 값들을 확인하기 위해 사용\n",
    "model.add(layers.TimeDistributed(layers.Dense(units=num_class, activation='softmax')))\n",
    "\n",
    "model.compile(optimizer=tf.keras.optimizers.Adam(learning_rate=learning_rate), \n",
    "              loss='categorical_crossentropy',\n",
    "              metrics=['accuracy'])\n",
    "\n",
    "model.summary()"
   ]
  },
  {
   "cell_type": "code",
   "execution_count": 31,
   "id": "3fb8263a",
   "metadata": {},
   "outputs": [
    {
     "name": "stdout",
     "output_type": "stream",
     "text": [
      "Epoch 1/10\n"
     ]
    },
    {
     "name": "stderr",
     "output_type": "stream",
     "text": [
      "2022-03-07 11:09:53.105064: W tensorflow/core/platform/profile_utils/cpu_utils.cc:128] Failed to get CPU frequency: 0 Hz\n",
      "2022-03-07 11:09:53.412933: I tensorflow/core/grappler/optimizers/custom_graph_optimizer_registry.cc:113] Plugin optimizer for device_type GPU is enabled.\n"
     ]
    },
    {
     "name": "stdout",
     "output_type": "stream",
     "text": [
      "1/1 [==============================] - 1s 1s/step - loss: 1.5763 - accuracy: 0.3333\n",
      "Epoch 2/10\n",
      "1/1 [==============================] - 0s 29ms/step - loss: 1.2720 - accuracy: 0.5000\n",
      "Epoch 3/10\n",
      "1/1 [==============================] - 0s 29ms/step - loss: 1.0479 - accuracy: 0.6667\n",
      "Epoch 4/10\n",
      "1/1 [==============================] - 0s 29ms/step - loss: 0.8813 - accuracy: 0.8333\n",
      "Epoch 5/10\n",
      "1/1 [==============================] - 0s 30ms/step - loss: 0.7192 - accuracy: 0.8333\n",
      "Epoch 6/10\n",
      "1/1 [==============================] - 0s 31ms/step - loss: 0.6014 - accuracy: 0.8333\n",
      "Epoch 7/10\n",
      "1/1 [==============================] - 0s 26ms/step - loss: 0.5153 - accuracy: 0.8333\n",
      "Epoch 8/10\n",
      "1/1 [==============================] - 0s 28ms/step - loss: 0.4415 - accuracy: 0.8333\n",
      "Epoch 9/10\n",
      "1/1 [==============================] - 0s 27ms/step - loss: 0.3717 - accuracy: 0.8333\n",
      "Epoch 10/10\n",
      "1/1 [==============================] - 0s 31ms/step - loss: 0.3061 - accuracy: 1.0000\n"
     ]
    },
    {
     "data": {
      "text/plain": [
       "<keras.callbacks.History at 0x292f78d00>"
      ]
     },
     "execution_count": 31,
     "metadata": {},
     "output_type": "execute_result"
    }
   ],
   "source": [
    "model.fit(x_one_hot, y_one_hot, epochs=10)"
   ]
  },
  {
   "cell_type": "code",
   "execution_count": 32,
   "id": "3e967ca1",
   "metadata": {},
   "outputs": [
    {
     "name": "stderr",
     "output_type": "stream",
     "text": [
      "2022-03-07 11:10:04.967963: I tensorflow/core/grappler/optimizers/custom_graph_optimizer_registry.cc:113] Plugin optimizer for device_type GPU is enabled.\n"
     ]
    },
    {
     "data": {
      "text/plain": [
       "array([[[6.1361134e-01, 2.8711942e-01, 8.5027903e-02, 1.1898506e-03,\n",
       "         1.3051561e-02],\n",
       "        [3.3859944e-01, 5.7943600e-01, 8.0008149e-02, 1.2494229e-03,\n",
       "         7.0703967e-04],\n",
       "        [8.7829310e-01, 8.7934859e-02, 3.0682717e-02, 6.5965514e-04,\n",
       "         2.4296623e-03],\n",
       "        [6.0617741e-02, 1.6071291e-01, 7.7155286e-01, 4.5281728e-03,\n",
       "         2.5883929e-03],\n",
       "        [1.6482474e-03, 9.5958146e-04, 4.3252720e-03, 9.8924679e-01,\n",
       "         3.8201085e-03],\n",
       "        [3.5554659e-02, 2.3965845e-03, 2.1280586e-03, 8.8266125e-03,\n",
       "         9.5109421e-01]]], dtype=float32)"
      ]
     },
     "execution_count": 32,
     "metadata": {},
     "output_type": "execute_result"
    }
   ],
   "source": [
    "pred = model.predict(x_one_hot)\n",
    "pred"
   ]
  },
  {
   "cell_type": "code",
   "execution_count": 114,
   "id": "eb463e84",
   "metadata": {},
   "outputs": [
    {
     "name": "stdout",
     "output_type": "stream",
     "text": [
      "[[6.1361134e-01 2.8711942e-01 8.5027903e-02 1.1898506e-03 1.3051561e-02]\n",
      " [3.3859944e-01 5.7943600e-01 8.0008149e-02 1.2494229e-03 7.0703967e-04]\n",
      " [8.7829310e-01 8.7934859e-02 3.0682717e-02 6.5965514e-04 2.4296623e-03]\n",
      " [6.0617741e-02 1.6071291e-01 7.7155286e-01 4.5281728e-03 2.5883929e-03]\n",
      " [1.6482474e-03 9.5958146e-04 4.3252720e-03 9.8924679e-01 3.8201085e-03]\n",
      " [3.5554659e-02 2.3965845e-03 2.1280586e-03 8.8266125e-03 9.5109421e-01]]\n"
     ]
    }
   ],
   "source": [
    "for word in pred:\n",
    "    print(word)"
   ]
  },
  {
   "cell_type": "code",
   "execution_count": 116,
   "id": "94087ef9",
   "metadata": {},
   "outputs": [
    {
     "name": "stdout",
     "output_type": "stream",
     "text": [
      "[0 1 0 2 3 4]\n"
     ]
    }
   ],
   "source": [
    "for word in pred:\n",
    "    print(np.argmax(word,axis=1))"
   ]
  },
  {
   "cell_type": "code",
   "execution_count": 112,
   "id": "976d0348",
   "metadata": {
    "scrolled": true
   },
   "outputs": [
    {
     "name": "stdout",
     "output_type": "stream",
     "text": [
      "토 마 토 를 먹 자\n"
     ]
    }
   ],
   "source": [
    "for word in pred:\n",
    "    print(\" \".join([idx2char[c] for c in np.argmax(word, axis=1)]))"
   ]
  },
  {
   "cell_type": "markdown",
   "id": "7c3a26ce",
   "metadata": {},
   "source": [
    "#  오후수업"
   ]
  },
  {
   "cell_type": "code",
   "execution_count": 121,
   "id": "a8bba23b",
   "metadata": {
    "scrolled": true
   },
   "outputs": [
    {
     "name": "stdout",
     "output_type": "stream",
     "text": [
      "{'my': 1, 'love': 2, 'dog': 3, 'i': 4, 'you': 5, 'cat': 6, 'do': 7, 'think': 8, 'is': 9, 'amazing': 10}\n"
     ]
    }
   ],
   "source": [
    "from tensorflow.keras.preprocessing.text import Tokenizer\n",
    "\n",
    "sentences = ['I love my dog',\n",
    "             'I love my cat',\n",
    "             'You love my dog!',\n",
    "             'Do you think my dog is amazing?']\n",
    "\n",
    "tokenizer = Tokenizer()\n",
    "tokenizer.fit_on_texts(sentences)\n",
    "word_index = tokenizer.word_index\n",
    "print(word_index) # lower, ! 제외"
   ]
  },
  {
   "cell_type": "code",
   "execution_count": 132,
   "id": "7134252d",
   "metadata": {
    "scrolled": true
   },
   "outputs": [
    {
     "name": "stdout",
     "output_type": "stream",
     "text": [
      "[[5, 3, 1, 2], [6, 7, 1, 8], [4, 3, 1, 2], [9, 4, 10, 1, 2, 11, 12]]\n"
     ]
    }
   ],
   "source": [
    "from tensorflow.keras.preprocessing.sequence import pad_sequences\n",
    "\n",
    "sentences = ['I love my dog',\n",
    "             'He loves my cat',\n",
    "             'You love my dog!',\n",
    "             'Do you think my dog is amazing?']\n",
    "\n",
    "tokenizer = Tokenizer()\n",
    "tokenizer.fit_on_texts(sentences)\n",
    "word_index = tokenizer.word_index\n",
    "\n",
    "sequences = tokenizer.texts_to_sequences(sentences)\n",
    "print(sequences)"
   ]
  },
  {
   "cell_type": "code",
   "execution_count": 133,
   "id": "c2d6f940",
   "metadata": {},
   "outputs": [
    {
     "name": "stdout",
     "output_type": "stream",
     "text": [
      "[[ 5  3  1  2  0]\n",
      " [ 6  7  1  8  0]\n",
      " [ 4  3  1  2  0]\n",
      " [ 9  4 10  1  2]]\n"
     ]
    }
   ],
   "source": [
    "from os import truncate\n",
    "padded = pad_sequences(sequences, maxlen=5, padding='post', truncating='post')\n",
    "# maxlen : 결과의 차원수\n",
    "# padding(post) : 단어가 추가로 없을 때, 뒤에 0추가\n",
    "# truncate(post) : 단어가 추가로 있을 때, 뒤에서부터 자르기\n",
    "print(padded)"
   ]
  },
  {
   "cell_type": "code",
   "execution_count": 134,
   "id": "598e313a",
   "metadata": {
    "scrolled": true
   },
   "outputs": [
    {
     "name": "stdout",
     "output_type": "stream",
     "text": [
      "oov값 주기 전\n",
      "{'my': 1, 'dog': 2, 'love': 3, 'you': 4, 'i': 5, 'he': 6, 'loves': 7, 'cat': 8, 'do': 9, 'think': 10, 'is': 11, 'amazing': 12}\n",
      "oov값 준 후\n",
      "{'<oov>': 1, 'my': 2, 'dog': 3, 'love': 4, 'you': 5, 'i': 6, 'he': 7, 'loves': 8, 'cat': 9, 'do': 10, 'think': 11, 'is': 12, 'amazing': 13}\n",
      "[[6, 4, 2, 3], [7, 8, 2, 9], [5, 4, 2, 3], [10, 5, 11, 2, 3, 12, 13]]\n",
      "[[ 6  4  2  3  0]\n",
      " [ 7  8  2  9  0]\n",
      " [ 5  4  2  3  0]\n",
      " [10  5 11  2  3]]\n"
     ]
    }
   ],
   "source": [
    "# out of vocabulary : 딕셔너리에 정의되지 않은 단어들을 어떻게 표시할거에요?\n",
    "print(\"oov값 주기 전\",word_index,sep='\\n')\n",
    "tokenizer = Tokenizer(oov_token=\"<oov>\") \n",
    "tokenizer.fit_on_texts(sentences)\n",
    "word_index = tokenizer.word_index\n",
    "print(\"oov값 준 후\",word_index,sep=\"\\n\")\n",
    "sequences = tokenizer.texts_to_sequences(sentences)\n",
    "print(sequences)\n",
    "padded = pad_sequences(sequences, maxlen=5, padding='post', truncating='post')\n",
    "# padding : maxlen이 충족이 안됐을 때, post면 뒤에, default는 앞에 0 추가\n",
    "print(padded)"
   ]
  },
  {
   "cell_type": "code",
   "execution_count": 135,
   "id": "a4fbd910",
   "metadata": {
    "scrolled": false
   },
   "outputs": [
    {
     "name": "stdout",
     "output_type": "stream",
     "text": [
      "[[6 1 4 2 3]\n",
      " [2 3 8 2 1]]\n"
     ]
    }
   ],
   "source": [
    "test_data=['I really love my dog','My dog loves my manatee']\n",
    "test_seq = tokenizer.texts_to_sequences(test_data)\n",
    "padded = pad_sequences(test_seq, maxlen=5, padding='post', truncating='post')\n",
    "print(padded)"
   ]
  },
  {
   "cell_type": "markdown",
   "id": "7398eb4c",
   "metadata": {},
   "source": [
    "# 오후 두번째"
   ]
  },
  {
   "cell_type": "code",
   "execution_count": 136,
   "id": "915468cf",
   "metadata": {
    "scrolled": true
   },
   "outputs": [],
   "source": [
    "import tensorflow_datasets as tfds\n",
    "\n",
    "imdb, info = tfds.load('imdb_reviews', with_info=True, as_supervised=True)"
   ]
  },
  {
   "cell_type": "code",
   "execution_count": 137,
   "id": "38995156",
   "metadata": {},
   "outputs": [],
   "source": [
    "train_data, test_data = imdb['train'], imdb['test']"
   ]
  },
  {
   "cell_type": "code",
   "execution_count": 138,
   "id": "b2dc2dae",
   "metadata": {
    "scrolled": true
   },
   "outputs": [],
   "source": [
    "train_sentences = []\n",
    "test_sentences = []\n",
    "\n",
    "train_labels = []\n",
    "test_labels = []\n",
    "\n",
    "for sentence, label in train_data:\n",
    "    train_sentences.append(sentence.numpy().decode('utf-8'))\n",
    "    train_labels.append(label.numpy())\n",
    "\n",
    "for sentence, label in test_data:\n",
    "    test_sentences.append(sentence.numpy().decode('utf-8'))\n",
    "    test_labels.append(label.numpy())"
   ]
  },
  {
   "cell_type": "code",
   "execution_count": 139,
   "id": "a4763bdd",
   "metadata": {},
   "outputs": [],
   "source": [
    "train_labels = np.array(train_labels)\n",
    "test_labels = np.array(test_labels)"
   ]
  },
  {
   "cell_type": "code",
   "execution_count": 140,
   "id": "af6be171",
   "metadata": {},
   "outputs": [
    {
     "data": {
      "text/plain": [
       "(25000, 709)"
      ]
     },
     "execution_count": 140,
     "metadata": {},
     "output_type": "execute_result"
    }
   ],
   "source": [
    "len(train_sentences), len(train_sentences[0])"
   ]
  },
  {
   "cell_type": "code",
   "execution_count": 141,
   "id": "a962e5ee",
   "metadata": {},
   "outputs": [
    {
     "data": {
      "text/plain": [
       "(25000, 939)"
      ]
     },
     "execution_count": 141,
     "metadata": {},
     "output_type": "execute_result"
    }
   ],
   "source": [
    "len(test_sentences), len(test_sentences[0])"
   ]
  },
  {
   "cell_type": "code",
   "execution_count": 142,
   "id": "f3de29d6",
   "metadata": {},
   "outputs": [],
   "source": [
    "vocab_size = 10000 # ex) '토마토를 먹자'일 땐 5개\n",
    "embedding_dim = 16 # ex) 10000개 차원을 16개의 차원으로 축소해서 vector로 변환\n",
    "max_length = 120 # 문장 짜르기 (최대 120개까지)\n",
    "trunc_type = 'post' # 뒤에서 짜르세요\n",
    "oov_tok = '<oov>' # 딕셔너리에 없는 단어는 요렇게 해주세요\n",
    "\n",
    "tokenizer = Tokenizer(num_words=vocab_size,oov_token=oov_tok)\n",
    "tokenizer.fit_on_texts(train_sentences)"
   ]
  },
  {
   "cell_type": "code",
   "execution_count": 160,
   "id": "273a4dd1",
   "metadata": {},
   "outputs": [],
   "source": [
    "word_index = tokenizer.word_index # 딕셔너리로 반환\n",
    "sequences = tokenizer.texts_to_sequences(train_sentences)\n",
    "padded = pad_sequences(sequences, maxlen=max_length, truncating=trunc_type)\n",
    "# maxlen : 모든 문장을 maxlen크기로"
   ]
  },
  {
   "cell_type": "code",
   "execution_count": 161,
   "id": "69d82419",
   "metadata": {
    "scrolled": true
   },
   "outputs": [
    {
     "data": {
      "text/plain": [
       "\"This was an absolutely terrible movie. Don't be lured in by Christopher Walken or Michael Ironside. Both are great actors, but this must simply be their worst role in history. Even their great acting could not redeem this movie's ridiculous storyline. This movie is an early nineties US propaganda piece. The most pathetic scenes were those when the Columbian rebels were making their cases for revolutions. Maria Conchita Alonso appeared phony, and her pseudo-love affair with Walken was nothing but a pathetic emotional plug in a movie that was devoid of any real meaning. I am disappointed that there are movies like this, ruining actor's like Christopher Walken's good name. I could barely sit through it.\""
      ]
     },
     "execution_count": 161,
     "metadata": {},
     "output_type": "execute_result"
    }
   ],
   "source": [
    "train_sentences[0]"
   ]
  },
  {
   "cell_type": "code",
   "execution_count": 162,
   "id": "65d5cecc",
   "metadata": {
    "scrolled": true
   },
   "outputs": [
    {
     "data": {
      "text/plain": [
       "array([   0,    0,    0,   12,   14,   33,  425,  392,   18,   90,   28,\n",
       "          1,    9,   32, 1366, 3585,   40,  486,    1,  197,   24,   85,\n",
       "        154,   19,   12,  213,  329,   28,   66,  247,  215,    9,  477,\n",
       "         58,   66,   85,  114,   98,   22, 5675,   12, 1322,  643,  767,\n",
       "         12,   18,    7,   33,  400, 8170,  176, 2455,  416,    2,   89,\n",
       "       1231,  137,   69,  146,   52,    2,    1, 7577,   69,  229,   66,\n",
       "       2933,   16,    1, 2904,    1,    1, 1479, 4940,    3,   39, 3900,\n",
       "        117, 1584,   17, 3585,   14,  162,   19,    4, 1231,  917, 7917,\n",
       "          9,    4,   18,   13,   14, 4139,    5,   99,  145, 1214,   11,\n",
       "        242,  683,   13,   48,   24,  100,   38,   12, 7181, 5515,   38,\n",
       "       1366,    1,   50,  401,   11,   98, 1197,  867,  141,   10],\n",
       "      dtype=int32)"
      ]
     },
     "execution_count": 162,
     "metadata": {},
     "output_type": "execute_result"
    }
   ],
   "source": [
    "padded[0]"
   ]
  },
  {
   "cell_type": "code",
   "execution_count": 146,
   "id": "3d826b20",
   "metadata": {},
   "outputs": [],
   "source": [
    "index_word = {value : key for (key, value) in word_index.items()}"
   ]
  },
  {
   "cell_type": "code",
   "execution_count": 153,
   "id": "ef908838",
   "metadata": {},
   "outputs": [],
   "source": [
    "# 인덱스화 된 것을 문자로 변환\n",
    "def decode_review(text):\n",
    "    return \" \".join([index_word.get(i, '?') for i in text])\n",
    "# get을 통해서 0번째 인덱스로 된 것들을 다 ?로 변환"
   ]
  },
  {
   "cell_type": "code",
   "execution_count": 154,
   "id": "deb2236a",
   "metadata": {
    "scrolled": true
   },
   "outputs": [
    {
     "name": "stdout",
     "output_type": "stream",
     "text": [
      "? ? ? this was an absolutely terrible movie don't be <oov> in by christopher walken or michael <oov> both are great actors but this must simply be their worst role in history even their great acting could not redeem this movie's ridiculous storyline this movie is an early nineties us propaganda piece the most pathetic scenes were those when the <oov> rebels were making their cases for <oov> maria <oov> <oov> appeared phony and her pseudo love affair with walken was nothing but a pathetic emotional plug in a movie that was devoid of any real meaning i am disappointed that there are movies like this ruining actor's like christopher <oov> good name i could barely sit through it\n",
      "\n",
      "This was an absolutely terrible movie. Don't be lured in by Christopher Walken or Michael Ironside. Both are great actors, but this must simply be their worst role in history. Even their great acting could not redeem this movie's ridiculous storyline. This movie is an early nineties US propaganda piece. The most pathetic scenes were those when the Columbian rebels were making their cases for revolutions. Maria Conchita Alonso appeared phony, and her pseudo-love affair with Walken was nothing but a pathetic emotional plug in a movie that was devoid of any real meaning. I am disappointed that there are movies like this, ruining actor's like Christopher Walken's good name. I could barely sit through it.\n"
     ]
    }
   ],
   "source": [
    "print(decode_review(padded[0]), train_sentences[0], sep=\"\\n\\n\")"
   ]
  },
  {
   "cell_type": "code",
   "execution_count": 87,
   "id": "cdda3e29",
   "metadata": {
    "scrolled": false
   },
   "outputs": [
    {
     "name": "stdout",
     "output_type": "stream",
     "text": [
      "Model: \"sequential_3\"\n",
      "_________________________________________________________________\n",
      " Layer (type)                Output Shape              Param #   \n",
      "=================================================================\n",
      " embedding_2 (Embedding)     (None, 120, 16)           160000    \n",
      "                                                                 \n",
      " global_average_pooling1d_2   (None, 16)               0         \n",
      " (GlobalAveragePooling1D)                                        \n",
      "                                                                 \n",
      " dense_5 (Dense)             (None, 6)                 102       \n",
      "                                                                 \n",
      " dense_6 (Dense)             (None, 1)                 7         \n",
      "                                                                 \n",
      "=================================================================\n",
      "Total params: 160,109\n",
      "Trainable params: 160,109\n",
      "Non-trainable params: 0\n",
      "_________________________________________________________________\n"
     ]
    }
   ],
   "source": [
    "from tensorflow.keras.layers import Embedding, GlobalAveragePooling1D, Dense\n",
    "\n",
    "model = Sequential()\n",
    "model.add(Embedding(vocab_size, embedding_dim, input_length=max_length)) # Embedding: input 값의 차원을 ouput 값의 차원으로 축소 # cnn에서 rand에 속함\n",
    "model.add(GlobalAveragePooling1D())\n",
    "model.add(Dense(6, activation='relu'))\n",
    "model.add(Dense(1, activation='sigmoid'))\n",
    "model.compile(optimizer='adam', loss='binary_crossentropy', metrics=['accuracy'])\n",
    "model.summary()"
   ]
  },
  {
   "cell_type": "code",
   "execution_count": 88,
   "id": "5ddecc0c",
   "metadata": {},
   "outputs": [],
   "source": [
    "test_sequences = tokenizer.texts_to_sequences(test_sentences)\n",
    "test_padd = pad_sequences(test_sequences, maxlen=max_length, truncating=trunc_type)"
   ]
  },
  {
   "cell_type": "code",
   "execution_count": 93,
   "id": "b6453078",
   "metadata": {},
   "outputs": [
    {
     "name": "stdout",
     "output_type": "stream",
     "text": [
      "Epoch 1/10\n",
      "782/782 [==============================] - 10s 13ms/step - loss: 0.2676 - accuracy: 0.8920 - val_loss: 0.3775 - val_accuracy: 0.8324\n",
      "Epoch 2/10\n",
      "782/782 [==============================] - 10s 13ms/step - loss: 0.2299 - accuracy: 0.9111 - val_loss: 0.3905 - val_accuracy: 0.8324\n",
      "Epoch 3/10\n",
      "782/782 [==============================] - 10s 13ms/step - loss: 0.2030 - accuracy: 0.9256 - val_loss: 0.4199 - val_accuracy: 0.8266\n",
      "Epoch 4/10\n",
      "782/782 [==============================] - 10s 13ms/step - loss: 0.1826 - accuracy: 0.9339 - val_loss: 0.4535 - val_accuracy: 0.8220\n",
      "Epoch 5/10\n",
      "782/782 [==============================] - 10s 13ms/step - loss: 0.1636 - accuracy: 0.9429 - val_loss: 0.4919 - val_accuracy: 0.8181\n",
      "Epoch 6/10\n",
      "782/782 [==============================] - 10s 13ms/step - loss: 0.1487 - accuracy: 0.9485 - val_loss: 0.5479 - val_accuracy: 0.8034\n",
      "Epoch 7/10\n",
      "782/782 [==============================] - 10s 13ms/step - loss: 0.1352 - accuracy: 0.9555 - val_loss: 0.5750 - val_accuracy: 0.8088\n",
      "Epoch 8/10\n",
      "782/782 [==============================] - 10s 13ms/step - loss: 0.1226 - accuracy: 0.9598 - val_loss: 0.6184 - val_accuracy: 0.8058\n",
      "Epoch 9/10\n",
      "782/782 [==============================] - 10s 13ms/step - loss: 0.1114 - accuracy: 0.9656 - val_loss: 0.6682 - val_accuracy: 0.7985\n",
      "Epoch 10/10\n",
      "782/782 [==============================] - 10s 13ms/step - loss: 0.1012 - accuracy: 0.9700 - val_loss: 0.7191 - val_accuracy: 0.7980\n"
     ]
    }
   ],
   "source": [
    "num_epochs = 10\n",
    "hist = model.fit(padded, train_labels, validation_data=(test_padd, test_labels), epochs=num_epochs)"
   ]
  },
  {
   "cell_type": "code",
   "execution_count": 94,
   "id": "2a538a4f",
   "metadata": {},
   "outputs": [
    {
     "data": {
      "text/plain": [
       "(10000, 16)"
      ]
     },
     "execution_count": 94,
     "metadata": {},
     "output_type": "execute_result"
    }
   ],
   "source": [
    "embedding_layer = model.layers[0]\n",
    "weights = embedding_layer.get_weights()[0]\n",
    "weights.shape"
   ]
  },
  {
   "cell_type": "code",
   "execution_count": 99,
   "id": "86024c1f",
   "metadata": {},
   "outputs": [],
   "source": [
    "import matplotlib.pyplot as plt\n",
    "from jupyterthemes import jtplot\n",
    "jtplot.style(theme='grade3')\n",
    "\n",
    "def plot_graphs(hist, string):\n",
    "    plt.plot(hist.history[string])\n",
    "    plt.plot(hist.history['val_'+string])\n",
    "    plt.xlabel('Epochs')\n",
    "    plt.ylabel(string)\n",
    "    plt.legend([string, 'val_'+string])\n",
    "    plt.show()"
   ]
  },
  {
   "cell_type": "code",
   "execution_count": 100,
   "id": "4bfcbe02",
   "metadata": {},
   "outputs": [
    {
     "data": {
      "image/png": "[encoded data removed]",
      "text/plain": [
       "<Figure size 460.8x403.2 with 1 Axes>"
      ]
     },
     "metadata": {},
     "output_type": "display_data"
    },
    {
     "data": {
      "image/png": "[encoded data removed]",
      "text/plain": [
       "<Figure size 460.8x403.2 with 1 Axes>"
      ]
     },
     "metadata": {},
     "output_type": "display_data"
    }
   ],
   "source": [
    "plot_graphs(hist, 'accuracy')\n",
    "plot_graphs(hist, 'loss')"
   ]
  },
  {
   "cell_type": "markdown",
   "id": "26fe8cf3",
   "metadata": {},
   "source": [
    "#  오늘도..잘 끝났다...ㅎㅎ"
   ]
  }
 ],
 "metadata": {
  "kernelspec": {
   "display_name": "Python 3 (ipykernel)",
   "language": "python",
   "name": "python3"
  },
  "language_info": {
   "codemirror_mode": {
    "name": "ipython",
    "version": 3
   },
   "file_extension": ".py",
   "mimetype": "text/x-python",
   "name": "python",
   "nbconvert_exporter": "python",
   "pygments_lexer": "ipython3",
   "version": "3.8.12"
  }
 },
 "nbformat": 4,
 "nbformat_minor": 5
}
