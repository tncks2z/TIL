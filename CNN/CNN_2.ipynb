{
 "cells": [
  {
   "cell_type": "code",
   "execution_count": 1,
   "id": "48475911",
   "metadata": {},
   "outputs": [],
   "source": [
    "from jupyterthemes import jtplot\n",
    "jtplot.style(theme='gruvboxd')"
   ]
  },
  {
   "cell_type": "code",
   "execution_count": 2,
   "id": "e5da58b6",
   "metadata": {},
   "outputs": [],
   "source": [
    "from tensorflow.keras.datasets import mnist\n",
    "from sklearn.model_selection import train_test_split\n",
    "\n",
    "(train_images, train_labels),(test_images,test_labels) = mnist.load_data()\n",
    "train_images = train_images.reshape((-1,28,28,1))\n",
    "test_images = test_images.reshape((-1,28,28,1))\n",
    "\n",
    "train_images = train_images/255.\n",
    "test_images = test_images/255.\n",
    "\n",
    "valid_images, test_images, valid_labels, test_labels = train_test_split(test_images, test_labels,\n",
    "                                                                        test_size=0.15, shuffle=True)"
   ]
  },
  {
   "cell_type": "code",
   "execution_count": 3,
   "id": "826b883c",
   "metadata": {},
   "outputs": [],
   "source": [
    "import tensorflow as tf\n",
    "from tensorflow.keras.models import Model\n",
    "from tensorflow.keras.layers import Input, Conv2D, MaxPool2D, Flatten, Dense, Dropout"
   ]
  },
  {
   "cell_type": "code",
   "execution_count": 3,
   "id": "3e025ec5",
   "metadata": {},
   "outputs": [
    {
     "name": "stdout",
     "output_type": "stream",
     "text": [
      "Metal device set to: Apple M1 Pro\n",
      "Model: \"model\"\n",
      "_________________________________________________________________\n",
      " Layer (type)                Output Shape              Param #   \n",
      "=================================================================\n",
      " input_1 (InputLayer)        [(None, 28, 28, 1)]       0         \n",
      "                                                                 \n",
      " conv2d (Conv2D)             (None, 26, 26, 32)        320       \n",
      "                                                                 \n",
      " max_pooling2d (MaxPooling2D  (None, 13, 13, 32)       0         \n",
      " )                                                               \n",
      "                                                                 \n",
      " conv2d_1 (Conv2D)           (None, 11, 11, 64)        18496     \n",
      "                                                                 \n",
      " max_pooling2d_1 (MaxPooling  (None, 5, 5, 64)         0         \n",
      " 2D)                                                             \n",
      "                                                                 \n",
      " conv2d_2 (Conv2D)           (None, 3, 3, 64)          36928     \n",
      "                                                                 \n",
      " flatten (Flatten)           (None, 576)               0         \n",
      "                                                                 \n",
      " dense (Dense)               (None, 64)                36928     \n",
      "                                                                 \n",
      " dropout (Dropout)           (None, 64)                0         \n",
      "                                                                 \n",
      " dense_1 (Dense)             (None, 10)                650       \n",
      "                                                                 \n",
      "=================================================================\n",
      "Total params: 93,322\n",
      "Trainable params: 93,322\n",
      "Non-trainable params: 0\n",
      "_________________________________________________________________\n"
     ]
    },
    {
     "name": "stderr",
     "output_type": "stream",
     "text": [
      "2022-03-03 23:51:31.483230: I tensorflow/core/common_runtime/pluggable_device/pluggable_device_factory.cc:305] Could not identify NUMA node of platform GPU ID 0, defaulting to 0. Your kernel may not have been built with NUMA support.\n",
      "2022-03-03 23:51:31.483360: I tensorflow/core/common_runtime/pluggable_device/pluggable_device_factory.cc:271] Created TensorFlow device (/job:localhost/replica:0/task:0/device:GPU:0 with 0 MB memory) -> physical PluggableDevice (device: 0, name: METAL, pci bus id: <undefined>)\n"
     ]
    }
   ],
   "source": [
    "inputs = Input(shape=(28,28,1))\n",
    "conv1 = Conv2D(32, (3,3), activation=tf.nn.relu)(inputs) # 32개필터, (3,3)필터shape\n",
    "pool1 = MaxPool2D((2,2))(conv1)\n",
    "\n",
    "conv2 = Conv2D(64, (3,3), activation=tf.nn.relu)(pool1)\n",
    "pool2 = MaxPool2D((2,2))(conv2)\n",
    "\n",
    "conv3 = Conv2D(64, (3,3), activation=tf.nn.relu)(pool2)\n",
    "flatten = Flatten()(conv3)\n",
    "\n",
    "dense4 = Dense(64, activation='relu')(flatten)\n",
    "dropout4 = Dropout(rate=0.2)(dense4)\n",
    "outputs= Dense(10, activation='softmax')(dropout4)\n",
    "\n",
    "model = Model(inputs=inputs, outputs=outputs)\n",
    "model.summary()"
   ]
  },
  {
   "cell_type": "code",
   "execution_count": 4,
   "id": "804b7f54",
   "metadata": {},
   "outputs": [],
   "source": [
    "from tensorflow.keras.callbacks import ModelCheckpoint, EarlyStopping\n",
    "\n",
    "MODEL_SAVE_FOLDER = '/Users/suchan/study/cnn_models/'\n",
    "model_path = f\"{MODEL_SAVE_FOLDER}mnist-{{epoch:d}}-{{val_loss:.5f}}-{{val_accuracy:.5f}}.hdf5\"\n",
    "\n",
    "# save best only = val_accuracy가 있는 값들 중 좋아진 경우에만 save\n",
    "# save weight only = 모델의 weight값만 갖고옴\n",
    "cb_checkpoint = ModelCheckpoint(filepath=model_path,\n",
    "                                monitor='val_accuracy',\n",
    "                                verbose=1,\n",
    "                                save_best_only=True)\n",
    "\n",
    "# patience = val_accuracy가 연속으로 n번 떨어지면 STOP\n",
    "cb_early_stopping = EarlyStopping(monitor='val_accuracy', patience=6)"
   ]
  },
  {
   "cell_type": "code",
   "execution_count": 5,
   "id": "b924899d",
   "metadata": {},
   "outputs": [
    {
     "name": "stdout",
     "output_type": "stream",
     "text": [
      "Epoch 1/100\n"
     ]
    },
    {
     "name": "stderr",
     "output_type": "stream",
     "text": [
      "2022-03-03 23:51:31.650806: W tensorflow/core/platform/profile_utils/cpu_utils.cc:128] Failed to get CPU frequency: 0 Hz\n"
     ]
    },
    {
     "name": "stdout",
     "output_type": "stream",
     "text": [
      "  4/300 [..............................] - ETA: 5s - loss: 2.2551 - accuracy: 0.1950  "
     ]
    },
    {
     "name": "stderr",
     "output_type": "stream",
     "text": [
      "2022-03-03 23:51:31.910238: I tensorflow/core/grappler/optimizers/custom_graph_optimizer_registry.cc:113] Plugin optimizer for device_type GPU is enabled.\n"
     ]
    },
    {
     "name": "stdout",
     "output_type": "stream",
     "text": [
      "300/300 [==============================] - ETA: 0s - loss: 0.3331 - accuracy: 0.8984"
     ]
    },
    {
     "name": "stderr",
     "output_type": "stream",
     "text": [
      "2022-03-03 23:51:35.932433: I tensorflow/core/grappler/optimizers/custom_graph_optimizer_registry.cc:113] Plugin optimizer for device_type GPU is enabled.\n"
     ]
    },
    {
     "name": "stdout",
     "output_type": "stream",
     "text": [
      "\n",
      "Epoch 1: val_accuracy improved from -inf to 0.97506, saving model to /Users/suchan/study/cnn_models/mnist-1-0.07651-0.97506.hdf5\n",
      "300/300 [==============================] - 5s 14ms/step - loss: 0.3331 - accuracy: 0.8984 - val_loss: 0.0765 - val_accuracy: 0.9751\n",
      "Epoch 2/100\n",
      "299/300 [============================>.] - ETA: 0s - loss: 0.0906 - accuracy: 0.9725\n",
      "Epoch 2: val_accuracy improved from 0.97506 to 0.98482, saving model to /Users/suchan/study/cnn_models/mnist-2-0.04677-0.98482.hdf5\n",
      "300/300 [==============================] - 4s 13ms/step - loss: 0.0905 - accuracy: 0.9725 - val_loss: 0.0468 - val_accuracy: 0.9848\n",
      "Epoch 3/100\n",
      "297/300 [============================>.] - ETA: 0s - loss: 0.0618 - accuracy: 0.9809\n",
      "Epoch 3: val_accuracy improved from 0.98482 to 0.98718, saving model to /Users/suchan/study/cnn_models/mnist-3-0.03659-0.98718.hdf5\n",
      "300/300 [==============================] - 4s 13ms/step - loss: 0.0617 - accuracy: 0.9810 - val_loss: 0.0366 - val_accuracy: 0.9872\n",
      "Epoch 4/100\n",
      "299/300 [============================>.] - ETA: 0s - loss: 0.0485 - accuracy: 0.9851\n",
      "Epoch 4: val_accuracy improved from 0.98718 to 0.98894, saving model to /Users/suchan/study/cnn_models/mnist-4-0.03623-0.98894.hdf5\n",
      "300/300 [==============================] - 4s 13ms/step - loss: 0.0485 - accuracy: 0.9851 - val_loss: 0.0362 - val_accuracy: 0.9889\n",
      "Epoch 5/100\n",
      "298/300 [============================>.] - ETA: 0s - loss: 0.0411 - accuracy: 0.9871\n",
      "Epoch 5: val_accuracy improved from 0.98894 to 0.99035, saving model to /Users/suchan/study/cnn_models/mnist-5-0.03130-0.99035.hdf5\n",
      "300/300 [==============================] - 4s 13ms/step - loss: 0.0414 - accuracy: 0.9871 - val_loss: 0.0313 - val_accuracy: 0.9904\n",
      "Epoch 6/100\n",
      "300/300 [==============================] - ETA: 0s - loss: 0.0340 - accuracy: 0.9895\n",
      "Epoch 6: val_accuracy improved from 0.99035 to 0.99106, saving model to /Users/suchan/study/cnn_models/mnist-6-0.02824-0.99106.hdf5\n",
      "300/300 [==============================] - 4s 13ms/step - loss: 0.0340 - accuracy: 0.9895 - val_loss: 0.0282 - val_accuracy: 0.9911\n",
      "Epoch 7/100\n",
      "297/300 [============================>.] - ETA: 0s - loss: 0.0297 - accuracy: 0.9908\n",
      "Epoch 7: val_accuracy did not improve from 0.99106\n",
      "300/300 [==============================] - 4s 13ms/step - loss: 0.0298 - accuracy: 0.9908 - val_loss: 0.0289 - val_accuracy: 0.9907\n",
      "Epoch 8/100\n",
      "299/300 [============================>.] - ETA: 0s - loss: 0.0269 - accuracy: 0.9917\n",
      "Epoch 8: val_accuracy improved from 0.99106 to 0.99153, saving model to /Users/suchan/study/cnn_models/mnist-8-0.02866-0.99153.hdf5\n",
      "300/300 [==============================] - 4s 13ms/step - loss: 0.0268 - accuracy: 0.9917 - val_loss: 0.0287 - val_accuracy: 0.9915\n",
      "Epoch 9/100\n",
      "297/300 [============================>.] - ETA: 0s - loss: 0.0229 - accuracy: 0.9929\n",
      "Epoch 9: val_accuracy improved from 0.99153 to 0.99224, saving model to /Users/suchan/study/cnn_models/mnist-9-0.02733-0.99224.hdf5\n",
      "300/300 [==============================] - 4s 13ms/step - loss: 0.0229 - accuracy: 0.9929 - val_loss: 0.0273 - val_accuracy: 0.9922\n",
      "Epoch 10/100\n",
      "297/300 [============================>.] - ETA: 0s - loss: 0.0208 - accuracy: 0.9934\n",
      "Epoch 10: val_accuracy did not improve from 0.99224\n",
      "300/300 [==============================] - 4s 13ms/step - loss: 0.0211 - accuracy: 0.9934 - val_loss: 0.0265 - val_accuracy: 0.9919\n",
      "Epoch 11/100\n",
      "299/300 [============================>.] - ETA: 0s - loss: 0.0180 - accuracy: 0.9942\n",
      "Epoch 11: val_accuracy improved from 0.99224 to 0.99235, saving model to /Users/suchan/study/cnn_models/mnist-11-0.02681-0.99235.hdf5\n",
      "300/300 [==============================] - 4s 13ms/step - loss: 0.0179 - accuracy: 0.9942 - val_loss: 0.0268 - val_accuracy: 0.9924\n",
      "Epoch 12/100\n",
      "297/300 [============================>.] - ETA: 0s - loss: 0.0170 - accuracy: 0.9946\n",
      "Epoch 12: val_accuracy did not improve from 0.99235\n",
      "300/300 [==============================] - 4s 13ms/step - loss: 0.0169 - accuracy: 0.9947 - val_loss: 0.0259 - val_accuracy: 0.9914\n",
      "Epoch 13/100\n",
      "300/300 [==============================] - ETA: 0s - loss: 0.0162 - accuracy: 0.9946\n",
      "Epoch 13: val_accuracy did not improve from 0.99235\n",
      "300/300 [==============================] - 4s 13ms/step - loss: 0.0162 - accuracy: 0.9946 - val_loss: 0.0277 - val_accuracy: 0.9912\n",
      "Epoch 14/100\n",
      "300/300 [==============================] - ETA: 0s - loss: 0.0137 - accuracy: 0.9956\n",
      "Epoch 14: val_accuracy did not improve from 0.99235\n",
      "300/300 [==============================] - 4s 13ms/step - loss: 0.0137 - accuracy: 0.9956 - val_loss: 0.0283 - val_accuracy: 0.9912\n",
      "Epoch 15/100\n",
      "297/300 [============================>.] - ETA: 0s - loss: 0.0124 - accuracy: 0.9962\n",
      "Epoch 15: val_accuracy did not improve from 0.99235\n",
      "300/300 [==============================] - 4s 13ms/step - loss: 0.0124 - accuracy: 0.9962 - val_loss: 0.0320 - val_accuracy: 0.9909\n",
      "Epoch 16/100\n",
      "296/300 [============================>.] - ETA: 0s - loss: 0.0112 - accuracy: 0.9965\n",
      "Epoch 16: val_accuracy improved from 0.99235 to 0.99306, saving model to /Users/suchan/study/cnn_models/mnist-16-0.02567-0.99306.hdf5\n",
      "300/300 [==============================] - 4s 13ms/step - loss: 0.0113 - accuracy: 0.9964 - val_loss: 0.0257 - val_accuracy: 0.9931\n",
      "Epoch 17/100\n",
      "298/300 [============================>.] - ETA: 0s - loss: 0.0106 - accuracy: 0.9964\n",
      "Epoch 17: val_accuracy did not improve from 0.99306\n",
      "300/300 [==============================] - 4s 13ms/step - loss: 0.0107 - accuracy: 0.9965 - val_loss: 0.0295 - val_accuracy: 0.9920\n",
      "Epoch 18/100\n",
      "300/300 [==============================] - ETA: 0s - loss: 0.0098 - accuracy: 0.9967\n",
      "Epoch 18: val_accuracy did not improve from 0.99306\n",
      "300/300 [==============================] - 4s 13ms/step - loss: 0.0098 - accuracy: 0.9967 - val_loss: 0.0303 - val_accuracy: 0.9920\n",
      "Epoch 19/100\n",
      "297/300 [============================>.] - ETA: 0s - loss: 0.0088 - accuracy: 0.9972\n",
      "Epoch 19: val_accuracy did not improve from 0.99306\n",
      "300/300 [==============================] - 4s 13ms/step - loss: 0.0088 - accuracy: 0.9972 - val_loss: 0.0293 - val_accuracy: 0.9913\n",
      "Epoch 20/100\n",
      "299/300 [============================>.] - ETA: 0s - loss: 0.0090 - accuracy: 0.9967\n",
      "Epoch 20: val_accuracy did not improve from 0.99306\n",
      "300/300 [==============================] - 4s 13ms/step - loss: 0.0092 - accuracy: 0.9967 - val_loss: 0.0289 - val_accuracy: 0.9918\n",
      "Epoch 21/100\n",
      "297/300 [============================>.] - ETA: 0s - loss: 0.0075 - accuracy: 0.9976\n",
      "Epoch 21: val_accuracy did not improve from 0.99306\n",
      "300/300 [==============================] - 4s 13ms/step - loss: 0.0075 - accuracy: 0.9976 - val_loss: 0.0324 - val_accuracy: 0.9921\n",
      "Epoch 22/100\n",
      "297/300 [============================>.] - ETA: 0s - loss: 0.0091 - accuracy: 0.9967\n",
      "Epoch 22: val_accuracy did not improve from 0.99306\n",
      "300/300 [==============================] - 4s 13ms/step - loss: 0.0090 - accuracy: 0.9967 - val_loss: 0.0314 - val_accuracy: 0.9929\n"
     ]
    }
   ],
   "source": [
    "model.compile(optimizer = 'adam',\n",
    "              loss = 'sparse_categorical_crossentropy',\n",
    "              metrics = ['accuracy'])\n",
    "hist = model.fit(train_images, train_labels,\n",
    "                 validation_data=(valid_images, valid_labels),\n",
    "                 epochs=100, batch_size=200,\n",
    "                 callbacks=[cb_checkpoint, cb_early_stopping])"
   ]
  },
  {
   "cell_type": "code",
   "execution_count": 6,
   "id": "11c12103",
   "metadata": {},
   "outputs": [
    {
     "data": {
      "image/png": "[encoded data removed]",
      "text/plain": [
       "<Figure size 432x288 with 2 Axes>"
      ]
     },
     "metadata": {
      "needs_background": "light"
     },
     "output_type": "display_data"
    }
   ],
   "source": [
    "import matplotlib.pyplot as plt\n",
    "\n",
    "fig, loss_ax = plt.subplots()\n",
    "acc_ax = loss_ax.twinx()\n",
    "\n",
    "loss_ax.plot(hist.history['loss'], 'y', label='train_loss')\n",
    "loss_ax.plot(hist.history['val_loss'], 'r', label='valid_loss')\n",
    "loss_ax.set_xlabel('epochs')\n",
    "loss_ax.set_ylabel('loss')\n",
    "loss_ax.legend(loc='upper left')\n",
    "\n",
    "acc_ax.plot(hist.history['accuracy'], 'b', label='train_accuracy')\n",
    "acc_ax.plot(hist.history['val_accuracy'], 'g', label='valid_accuracy')\n",
    "acc_ax.set_xlabel('epochs')\n",
    "acc_ax.set_ylabel('accuracy')\n",
    "acc_ax.legend(loc='upper right', bbox_to_anchor=(1, 0.5))\n",
    "\n",
    "plt.show()"
   ]
  },
  {
   "cell_type": "code",
   "execution_count": 20,
   "id": "95ca9df6",
   "metadata": {},
   "outputs": [
    {
     "name": "stdout",
     "output_type": "stream",
     "text": [
      "47/47 [==============================] - 1s 8ms/step - loss: 0.0185 - accuracy: 0.9953\n",
      "Loss, Accuracy [0.018499553203582764, 0.9953333139419556]\n"
     ]
    }
   ],
   "source": [
    "saved_path = ''\n",
    "\n",
    "model.load_weights(saved_path)\n",
    "\n",
    "print(f\"Loss, Accuracy {model.evaluate(test_images,test_labels)}\")"
   ]
  },
  {
   "cell_type": "code",
   "execution_count": 24,
   "id": "f76f8c3e",
   "metadata": {},
   "outputs": [
    {
     "name": "stdout",
     "output_type": "stream",
     "text": [
      "17/47 [=========>....................] - ETA: 0s - loss: 0.0214 - accuracy: 0.9963  "
     ]
    },
    {
     "name": "stderr",
     "output_type": "stream",
     "text": [
      "2022-03-03 11:20:07.256058: I tensorflow/core/grappler/optimizers/custom_graph_optimizer_registry.cc:113] Plugin optimizer for device_type GPU is enabled.\n"
     ]
    },
    {
     "name": "stdout",
     "output_type": "stream",
     "text": [
      "47/47 [==============================] - 0s 6ms/step - loss: 0.0185 - accuracy: 0.9953\n",
      "Loss, Accuracy [0.018499553203582764, 0.9953333139419556]\n"
     ]
    }
   ],
   "source": [
    "saved_path = ''\n",
    "\n",
    "loaded_model=tf.keras.models.load_model(saved_path)\n",
    "\n",
    "print(f\"Loss, Accuracy {loaded_model.evaluate(test_images,test_labels)}\")"
   ]
  },
  {
   "cell_type": "markdown",
   "id": "a33272fc",
   "metadata": {},
   "source": [
    "# SUBCLASSING"
   ]
  },
  {
   "cell_type": "code",
   "execution_count": 33,
   "id": "384127ee",
   "metadata": {},
   "outputs": [],
   "source": [
    "class MNISTModel(Model):\n",
    "    def __init__(self):\n",
    "        super(MNISTModel, self).__init__()\n",
    "        self.conv1 = Conv2D(32, (3,3), activation='relu')\n",
    "        self.pool1 = MaxPool2D()\n",
    "        self.conv2 = Conv2D(64, (3,3), activation='relu')\n",
    "        self.pool2 = MaxPool2D()\n",
    "        self.conv3 = Conv2D(64, (3,3), activation='relu')\n",
    "        self.flatten = Flatten()\n",
    "        self.dense4 = Dense(64, activation='relu')\n",
    "        self.dropout = Dropout(0.2)\n",
    "        self.outputs = Dense(10, activation='softmax')\n",
    "    \n",
    "    # Forward\n",
    "    def call(self, inputs, training=False):\n",
    "        \n",
    "        net = self.conv1(inputs)\n",
    "        net = self.pool1(net)\n",
    "        net = self.conv2(net)\n",
    "        net = self.pool2(net)\n",
    "        net = self.conv3(net)\n",
    "        net = self.flatten(net)\n",
    "        net = self.dense4(net)\n",
    "        net = self.dropout(net)\n",
    "        net = self.outputs(net)\n",
    "        \n",
    "        return net\n"
   ]
  },
  {
   "cell_type": "code",
   "execution_count": 26,
   "id": "908f321d",
   "metadata": {},
   "outputs": [
    {
     "name": "stdout",
     "output_type": "stream",
     "text": [
      "Model: \"mnist_model\"\n",
      "_________________________________________________________________\n",
      " Layer (type)                Output Shape              Param #   \n",
      "=================================================================\n",
      " conv2d_9 (Conv2D)           multiple                  320       \n",
      "                                                                 \n",
      " max_pooling2d_6 (MaxPooling  multiple                 0         \n",
      " 2D)                                                             \n",
      "                                                                 \n",
      " conv2d_10 (Conv2D)          multiple                  18496     \n",
      "                                                                 \n",
      " max_pooling2d_7 (MaxPooling  multiple                 0         \n",
      " 2D)                                                             \n",
      "                                                                 \n",
      " conv2d_11 (Conv2D)          multiple                  36928     \n",
      "                                                                 \n",
      " flatten_3 (Flatten)         multiple                  0         \n",
      "                                                                 \n",
      " dense_5 (Dense)             multiple                  36928     \n",
      "                                                                 \n",
      " dropout_2 (Dropout)         multiple                  0         \n",
      "                                                                 \n",
      " dense_6 (Dense)             multiple                  650       \n",
      "                                                                 \n",
      "=================================================================\n",
      "Total params: 93,322\n",
      "Trainable params: 93,322\n",
      "Non-trainable params: 0\n",
      "_________________________________________________________________\n"
     ]
    }
   ],
   "source": [
    "model = MNISTModel()\n",
    "inputs = Input(shape=(28,28,1))\n",
    "model(inputs)\n",
    "\n",
    "model.summary()"
   ]
  },
  {
   "cell_type": "code",
   "execution_count": 29,
   "id": "8a5da664",
   "metadata": {},
   "outputs": [],
   "source": [
    "from tensorflow.keras.callbacks import ModelCheckpoint, EarlyStopping\n",
    "\n",
    "MODEL_SAVE_FOLDER = '/Users/suchan/study/cnn_models/'\n",
    "model_path = f\"{MODEL_SAVE_FOLDER}mnist-{{epoch:d}}-{{val_loss:.5f}}-{{val_accuracy:.5f}}.hdf5\"\n",
    "\n",
    "# save best only = val_accuracy가 있는 값들 중 좋아진 경우에만 save\n",
    "# save weight only = 모델의 weight값만 갖고옴\n",
    "cb_checkpoint = ModelCheckpoint(filepath=model_path,\n",
    "                                monitor='val_accuracy',\n",
    "                                verbose=1,\n",
    "                                save_weights_only=True,\n",
    "                                save_best_only=True)\n",
    "\n",
    "# patience = val_accuracy가 연속으로 n번 떨어지면 STOP\n",
    "cb_early_stopping = EarlyStopping(monitor='val_accuracy', patience=6)"
   ]
  },
  {
   "cell_type": "code",
   "execution_count": 30,
   "id": "43ecde3c",
   "metadata": {},
   "outputs": [
    {
     "name": "stdout",
     "output_type": "stream",
     "text": [
      "Epoch 1/100\n",
      "  2/300 [..............................] - ETA: 19s - loss: 0.1269 - accuracy: 0.9650 "
     ]
    },
    {
     "name": "stderr",
     "output_type": "stream",
     "text": [
      "2022-03-03 11:35:20.262910: I tensorflow/core/grappler/optimizers/custom_graph_optimizer_registry.cc:113] Plugin optimizer for device_type GPU is enabled.\n"
     ]
    },
    {
     "name": "stdout",
     "output_type": "stream",
     "text": [
      "296/300 [============================>.] - ETA: 0s - loss: 0.0827 - accuracy: 0.9754"
     ]
    },
    {
     "name": "stderr",
     "output_type": "stream",
     "text": [
      "2022-03-03 11:35:24.369884: I tensorflow/core/grappler/optimizers/custom_graph_optimizer_registry.cc:113] Plugin optimizer for device_type GPU is enabled.\n"
     ]
    },
    {
     "name": "stdout",
     "output_type": "stream",
     "text": [
      "\n",
      "Epoch 1: val_accuracy improved from -inf to 0.98588, saving model to /Users/suchan/study/cnn_models/mnist-1-0.04322-0.98588.hdf5\n",
      "300/300 [==============================] - 5s 14ms/step - loss: 0.0822 - accuracy: 0.9754 - val_loss: 0.0432 - val_accuracy: 0.9859\n",
      "Epoch 2/100\n",
      "297/300 [============================>.] - ETA: 0s - loss: 0.0522 - accuracy: 0.9839\n",
      "Epoch 2: val_accuracy improved from 0.98588 to 0.98894, saving model to /Users/suchan/study/cnn_models/mnist-2-0.03716-0.98894.hdf5\n",
      "300/300 [==============================] - 4s 14ms/step - loss: 0.0521 - accuracy: 0.9839 - val_loss: 0.0372 - val_accuracy: 0.9889\n",
      "Epoch 3/100\n",
      "300/300 [==============================] - ETA: 0s - loss: 0.0411 - accuracy: 0.9881\n",
      "Epoch 3: val_accuracy did not improve from 0.98894\n",
      "300/300 [==============================] - 4s 14ms/step - loss: 0.0411 - accuracy: 0.9881 - val_loss: 0.0378 - val_accuracy: 0.9876\n",
      "Epoch 4/100\n",
      "298/300 [============================>.] - ETA: 0s - loss: 0.0345 - accuracy: 0.9895\n",
      "Epoch 4: val_accuracy improved from 0.98894 to 0.99012, saving model to /Users/suchan/study/cnn_models/mnist-4-0.02952-0.99012.hdf5\n",
      "300/300 [==============================] - 4s 14ms/step - loss: 0.0344 - accuracy: 0.9895 - val_loss: 0.0295 - val_accuracy: 0.9901\n",
      "Epoch 5/100\n",
      "296/300 [============================>.] - ETA: 0s - loss: 0.0272 - accuracy: 0.9915\n",
      "Epoch 5: val_accuracy did not improve from 0.99012\n",
      "300/300 [==============================] - 4s 13ms/step - loss: 0.0271 - accuracy: 0.9915 - val_loss: 0.0360 - val_accuracy: 0.9879\n",
      "Epoch 6/100\n",
      "300/300 [==============================] - ETA: 0s - loss: 0.0257 - accuracy: 0.9919\n",
      "Epoch 6: val_accuracy did not improve from 0.99012\n",
      "300/300 [==============================] - 4s 14ms/step - loss: 0.0257 - accuracy: 0.9919 - val_loss: 0.0328 - val_accuracy: 0.9891\n",
      "Epoch 7/100\n",
      "298/300 [============================>.] - ETA: 0s - loss: 0.0214 - accuracy: 0.9936\n",
      "Epoch 7: val_accuracy improved from 0.99012 to 0.99224, saving model to /Users/suchan/study/cnn_models/mnist-7-0.02508-0.99224.hdf5\n",
      "300/300 [==============================] - 4s 14ms/step - loss: 0.0214 - accuracy: 0.9936 - val_loss: 0.0251 - val_accuracy: 0.9922\n",
      "Epoch 8/100\n",
      "300/300 [==============================] - ETA: 0s - loss: 0.0196 - accuracy: 0.9938\n",
      "Epoch 8: val_accuracy did not improve from 0.99224\n",
      "300/300 [==============================] - 4s 14ms/step - loss: 0.0196 - accuracy: 0.9938 - val_loss: 0.0310 - val_accuracy: 0.9899\n",
      "Epoch 9/100\n",
      "299/300 [============================>.] - ETA: 0s - loss: 0.0161 - accuracy: 0.9949\n",
      "Epoch 9: val_accuracy did not improve from 0.99224\n",
      "300/300 [==============================] - 4s 14ms/step - loss: 0.0162 - accuracy: 0.9949 - val_loss: 0.0323 - val_accuracy: 0.9905\n",
      "Epoch 10/100\n",
      "297/300 [============================>.] - ETA: 0s - loss: 0.0151 - accuracy: 0.9953\n",
      "Epoch 10: val_accuracy did not improve from 0.99224\n",
      "300/300 [==============================] - 4s 14ms/step - loss: 0.0150 - accuracy: 0.9954 - val_loss: 0.0293 - val_accuracy: 0.9908\n",
      "Epoch 11/100\n",
      "297/300 [============================>.] - ETA: 0s - loss: 0.0134 - accuracy: 0.9955\n",
      "Epoch 11: val_accuracy did not improve from 0.99224\n",
      "300/300 [==============================] - 4s 14ms/step - loss: 0.0134 - accuracy: 0.9955 - val_loss: 0.0295 - val_accuracy: 0.9922\n",
      "Epoch 12/100\n",
      "300/300 [==============================] - ETA: 0s - loss: 0.0109 - accuracy: 0.9964\n",
      "Epoch 12: val_accuracy improved from 0.99224 to 0.99282, saving model to /Users/suchan/study/cnn_models/mnist-12-0.03021-0.99282.hdf5\n",
      "300/300 [==============================] - 4s 14ms/step - loss: 0.0109 - accuracy: 0.9964 - val_loss: 0.0302 - val_accuracy: 0.9928\n",
      "Epoch 13/100\n",
      "300/300 [==============================] - ETA: 0s - loss: 0.0112 - accuracy: 0.9964\n",
      "Epoch 13: val_accuracy improved from 0.99282 to 0.99329, saving model to /Users/suchan/study/cnn_models/mnist-13-0.02707-0.99329.hdf5\n",
      "300/300 [==============================] - 4s 14ms/step - loss: 0.0112 - accuracy: 0.9964 - val_loss: 0.0271 - val_accuracy: 0.9933\n",
      "Epoch 14/100\n",
      "296/300 [============================>.] - ETA: 0s - loss: 0.0097 - accuracy: 0.9967\n",
      "Epoch 14: val_accuracy did not improve from 0.99329\n",
      "300/300 [==============================] - 4s 14ms/step - loss: 0.0097 - accuracy: 0.9967 - val_loss: 0.0285 - val_accuracy: 0.9924\n",
      "Epoch 15/100\n",
      "300/300 [==============================] - ETA: 0s - loss: 0.0087 - accuracy: 0.9973\n",
      "Epoch 15: val_accuracy did not improve from 0.99329\n",
      "300/300 [==============================] - 4s 14ms/step - loss: 0.0087 - accuracy: 0.9973 - val_loss: 0.0355 - val_accuracy: 0.9906\n",
      "Epoch 16/100\n",
      "299/300 [============================>.] - ETA: 0s - loss: 0.0078 - accuracy: 0.9975\n",
      "Epoch 16: val_accuracy did not improve from 0.99329\n",
      "300/300 [==============================] - 4s 14ms/step - loss: 0.0078 - accuracy: 0.9975 - val_loss: 0.0301 - val_accuracy: 0.9925\n",
      "Epoch 17/100\n",
      "300/300 [==============================] - ETA: 0s - loss: 0.0080 - accuracy: 0.9972\n",
      "Epoch 17: val_accuracy did not improve from 0.99329\n",
      "300/300 [==============================] - 4s 14ms/step - loss: 0.0080 - accuracy: 0.9972 - val_loss: 0.0316 - val_accuracy: 0.9925\n",
      "Epoch 18/100\n",
      "297/300 [============================>.] - ETA: 0s - loss: 0.0073 - accuracy: 0.9976\n",
      "Epoch 18: val_accuracy did not improve from 0.99329\n",
      "300/300 [==============================] - 4s 14ms/step - loss: 0.0073 - accuracy: 0.9976 - val_loss: 0.0326 - val_accuracy: 0.9920\n",
      "Epoch 19/100\n",
      "298/300 [============================>.] - ETA: 0s - loss: 0.0071 - accuracy: 0.9977\n",
      "Epoch 19: val_accuracy did not improve from 0.99329\n",
      "300/300 [==============================] - 4s 14ms/step - loss: 0.0071 - accuracy: 0.9977 - val_loss: 0.0387 - val_accuracy: 0.9916\n"
     ]
    }
   ],
   "source": [
    "model.compile(optimizer = 'adam',\n",
    "              loss = 'sparse_categorical_crossentropy',\n",
    "              metrics = ['accuracy'])\n",
    "hist = model.fit(train_images, train_labels,\n",
    "                 validation_data=(valid_images, valid_labels),\n",
    "                 epochs=100, batch_size=200,\n",
    "                 callbacks=[cb_checkpoint, cb_early_stopping])"
   ]
  },
  {
   "cell_type": "code",
   "execution_count": 32,
   "id": "3ffd258d",
   "metadata": {},
   "outputs": [
    {
     "name": "stdout",
     "output_type": "stream",
     "text": [
      "47/47 [==============================] - 0s 6ms/step - loss: 0.0206 - accuracy: 0.9927\n",
      "Loss, Accuracy [0.02063010260462761, 0.9926666617393494]\n"
     ]
    }
   ],
   "source": [
    "saved_path = '/Users/suchan/study/cnn_models/mnist-13-0.02707-0.99329.hdf5'\n",
    "\n",
    "model.load_weights(saved_path)\n",
    "\n",
    "print(f\"Loss, Accuracy {model.evaluate(test_images,test_labels)}\")"
   ]
  }
 ],
 "metadata": {
  "kernelspec": {
   "display_name": "Python 3 (ipykernel)",
   "language": "python",
   "name": "python3"
  },
  "language_info": {
   "codemirror_mode": {
    "name": "ipython",
    "version": 3
   },
   "file_extension": ".py",
   "mimetype": "text/x-python",
   "name": "python",
   "nbconvert_exporter": "python",
   "pygments_lexer": "ipython3",
   "version": "3.8.12"
  }
 },
 "nbformat": 4,
 "nbformat_minor": 5
}
