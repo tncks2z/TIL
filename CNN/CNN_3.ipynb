{
 "cells": [
  {
   "cell_type": "code",
   "execution_count": 44,
   "id": "4f1b945b",
   "metadata": {},
   "outputs": [],
   "source": [
    "from jupyterthemes import jtplot\n",
    "jtplot.style(theme='grade3')"
   ]
  },
  {
   "cell_type": "markdown",
   "id": "06df95c6",
   "metadata": {},
   "source": [
    "# Batch_Norm "
   ]
  },
  {
   "cell_type": "code",
   "execution_count": 33,
   "id": "8e2268fb",
   "metadata": {},
   "outputs": [],
   "source": [
    "from tensorflow.keras.datasets import mnist\n",
    "from sklearn.model_selection import train_test_split\n",
    "\n",
    "(train_images, train_labels),(test_images,test_labels) = mnist.load_data()\n",
    "train_images = train_images.reshape((-1,28,28,1))\n",
    "test_images = test_images.reshape((-1,28,28,1))\n",
    "\n",
    "train_images = train_images/255.\n",
    "test_images = test_images/255.\n",
    "\n",
    "valid_images, test_images, valid_labels, test_labels = train_test_split(test_images, test_labels,\n",
    "                                                                        test_size=0.15, shuffle=True)"
   ]
  },
  {
   "cell_type": "code",
   "execution_count": 34,
   "id": "f5e59f3d",
   "metadata": {},
   "outputs": [],
   "source": [
    "import tensorflow as tf\n",
    "from tensorflow.keras.models import Model\n",
    "from tensorflow.keras.layers import Input, Conv2D, MaxPool2D, Flatten, Dense, Dropout, BatchNormalization"
   ]
  },
  {
   "cell_type": "code",
   "execution_count": 35,
   "id": "954dc643",
   "metadata": {},
   "outputs": [],
   "source": [
    "class ConvBNRelu(Model):\n",
    "    def __init__(self, filters, kernel_size=3, strides=(1,1), padding='same'):\n",
    "        super(ConvBNRelu, self).__init__()\n",
    "        self.conv = Conv2D(filters=filters, kernel_size=kernel_size,\n",
    "                           strides=strides, padding=padding,\n",
    "                           kernel_initializer='glorot_normal')\n",
    "        self.batchnorm = BatchNormalization()\n",
    "        \n",
    "    def call(self, inputs, training=False):\n",
    "        layer = self.conv(inputs)\n",
    "        layer = self.batchnorm(layer)\n",
    "        layer = tf.nn.relu(layer)\n",
    "        \n",
    "        return layer"
   ]
  },
  {
   "cell_type": "code",
   "execution_count": 36,
   "id": "b77f2993",
   "metadata": {},
   "outputs": [],
   "source": [
    "class DenseBNRelu(Model):\n",
    "    def __init__(self, units): # units는 input값\n",
    "        super(DenseBNRelu, self).__init__()\n",
    "        self.dense = Dense(units=units, kernel_initializer='glorot_normal')\n",
    "        self.batchnorm = BatchNormalization()\n",
    "        \n",
    "    def call(self, inputs, training=False):\n",
    "        layer = self.dense(inputs)\n",
    "        layer = self.batchnorm(layer)\n",
    "        layer = tf.nn.relu(layer)\n",
    "        \n",
    "        return layer"
   ]
  },
  {
   "cell_type": "code",
   "execution_count": 37,
   "id": "cd44e8c2",
   "metadata": {},
   "outputs": [],
   "source": [
    "class MNISTModel(Model):\n",
    "    def __init__(self):\n",
    "        super(MNISTModel, self).__init__()\n",
    "        self.conv1 = ConvBNRelu(filters=32, kernel_size=(3,3), padding='valid')\n",
    "        self.pool1 = MaxPool2D()\n",
    "        self.conv2 = ConvBNRelu(filters=64, kernel_size=(3,3), padding='valid')\n",
    "        self.pool2 = MaxPool2D()\n",
    "        self.conv3 = ConvBNRelu(filters=64, kernel_size=(3,3), padding='valid')\n",
    "        self.flat = Flatten()\n",
    "        self.dense4 = DenseBNRelu(units=64)\n",
    "        self.drop = Dropout(0.2)\n",
    "        self.outputs = Dense(10, activation='softmax')\n",
    "        \n",
    "    def call(self, inputs, training=False):\n",
    "        net = self.conv1(inputs)\n",
    "        net = self.pool1(net)\n",
    "        net = self.conv2(net)\n",
    "        net = self.pool2(net)\n",
    "        net = self.conv3(net)\n",
    "        net = self.flat(net)\n",
    "        net = self.dense4(net)\n",
    "        net = self.drop(net)\n",
    "        net = self.outputs(net)\n",
    "        \n",
    "        return net"
   ]
  },
  {
   "cell_type": "code",
   "execution_count": 38,
   "id": "2fc57bed",
   "metadata": {},
   "outputs": [
    {
     "name": "stdout",
     "output_type": "stream",
     "text": [
      "Model: \"mnist_model_5\"\n",
      "_________________________________________________________________\n",
      " Layer (type)                Output Shape              Param #   \n",
      "=================================================================\n",
      " conv_bn_relu_16 (ConvBNRelu  multiple                 448       \n",
      " )                                                               \n",
      "                                                                 \n",
      " max_pooling2d_10 (MaxPoolin  multiple                 0         \n",
      " g2D)                                                            \n",
      "                                                                 \n",
      " conv_bn_relu_17 (ConvBNRelu  multiple                 18752     \n",
      " )                                                               \n",
      "                                                                 \n",
      " max_pooling2d_11 (MaxPoolin  multiple                 0         \n",
      " g2D)                                                            \n",
      "                                                                 \n",
      " conv_bn_relu_18 (ConvBNRelu  multiple                 37184     \n",
      " )                                                               \n",
      "                                                                 \n",
      " flatten_5 (Flatten)         multiple                  0         \n",
      "                                                                 \n",
      " dense_bn_relu (DenseBNRelu)  multiple                 37184     \n",
      "                                                                 \n",
      " dropout (Dropout)           multiple                  0         \n",
      "                                                                 \n",
      " dense_1 (Dense)             multiple                  650       \n",
      "                                                                 \n",
      "=================================================================\n",
      "Total params: 94,218\n",
      "Trainable params: 93,770\n",
      "Non-trainable params: 448\n",
      "_________________________________________________________________\n"
     ]
    }
   ],
   "source": [
    "model = MNISTModel()\n",
    "model(Input(shape=(28,28,1)))\n",
    "model.summary()"
   ]
  },
  {
   "cell_type": "code",
   "execution_count": 39,
   "id": "05e3e71f",
   "metadata": {},
   "outputs": [],
   "source": [
    "from tensorflow.keras.callbacks import ModelCheckpoint, EarlyStopping\n",
    "\n",
    "MODEL_SAVE_FOLDER = '/Users/suchan/study/cnn_models/'\n",
    "model_path = f\"{MODEL_SAVE_FOLDER}mnist-{{epoch:d}}-{{val_loss:.5f}}-{{val_accuracy:.5f}}.hdf5\"\n",
    "\n",
    "# save best only = val_accuracy가 있는 값들 중 좋아진 경우에만 save\n",
    "# save weight only = 모델의 weight값만 갖고옴\n",
    "cb_checkpoint = ModelCheckpoint(filepath=model_path,\n",
    "                                monitor='val_accuracy',\n",
    "                                verbose=1,\n",
    "                                save_weights_only=True,\n",
    "                                save_best_only=True)\n",
    "\n",
    "# patience = val_accuracy가 연속으로 n번 떨어지면 STOP\n",
    "cb_early_stopping = EarlyStopping(monitor='val_accuracy', patience=6)"
   ]
  },
  {
   "cell_type": "code",
   "execution_count": 40,
   "id": "f75d55e6",
   "metadata": {},
   "outputs": [],
   "source": [
    "learning_rate = 0.001\n",
    "batch_size = 200\n",
    "\n",
    "lr_decay = tf.keras.optimizers.schedules.ExponentialDecay(learning_rate, train_images.shape[0]/batch_size*5, 0.5, staircase=True)\n",
    "optimizer = tf.keras.optimizers.Adam(learning_rate=lr_decay)\n",
    "model.compile(optimizer=optimizer, loss='sparse_categorical_crossentropy', metrics=['accuracy'])"
   ]
  },
  {
   "cell_type": "code",
   "execution_count": 41,
   "id": "0dca7cf7",
   "metadata": {
    "scrolled": false
   },
   "outputs": [
    {
     "name": "stdout",
     "output_type": "stream",
     "text": [
      "Epoch 1/100\n"
     ]
    },
    {
     "name": "stderr",
     "output_type": "stream",
     "text": [
      "2022-03-04 14:04:36.587848: W tensorflow/core/platform/profile_utils/cpu_utils.cc:128] Failed to get CPU frequency: 0 Hz\n",
      "2022-03-04 14:04:36.898205: I tensorflow/core/grappler/optimizers/custom_graph_optimizer_registry.cc:113] Plugin optimizer for device_type GPU is enabled.\n"
     ]
    },
    {
     "name": "stdout",
     "output_type": "stream",
     "text": [
      "300/300 [==============================] - ETA: 0s - loss: 0.1989 - accuracy: 0.9520"
     ]
    },
    {
     "name": "stderr",
     "output_type": "stream",
     "text": [
      "2022-03-04 14:04:43.286782: I tensorflow/core/grappler/optimizers/custom_graph_optimizer_registry.cc:113] Plugin optimizer for device_type GPU is enabled.\n"
     ]
    },
    {
     "name": "stdout",
     "output_type": "stream",
     "text": [
      "\n",
      "Epoch 1: val_accuracy improved from -inf to 0.30141, saving model to /Users/suchan/study/cnn_models/mnist-1-2.67033-0.30141.hdf5\n",
      "300/300 [==============================] - 7s 16ms/step - loss: 0.1989 - accuracy: 0.9520 - val_loss: 2.6703 - val_accuracy: 0.3014\n",
      "Epoch 2/100\n",
      "297/300 [============================>.] - ETA: 0s - loss: 0.0492 - accuracy: 0.9870\n",
      "Epoch 2: val_accuracy improved from 0.30141 to 0.96565, saving model to /Users/suchan/study/cnn_models/mnist-2-0.10755-0.96565.hdf5\n",
      "300/300 [==============================] - 5s 15ms/step - loss: 0.0490 - accuracy: 0.9870 - val_loss: 0.1076 - val_accuracy: 0.9656\n",
      "Epoch 3/100\n",
      "297/300 [============================>.] - ETA: 0s - loss: 0.0323 - accuracy: 0.9911\n",
      "Epoch 3: val_accuracy improved from 0.96565 to 0.98612, saving model to /Users/suchan/study/cnn_models/mnist-3-0.04298-0.98612.hdf5\n",
      "300/300 [==============================] - 5s 15ms/step - loss: 0.0323 - accuracy: 0.9912 - val_loss: 0.0430 - val_accuracy: 0.9861\n",
      "Epoch 4/100\n",
      "300/300 [==============================] - ETA: 0s - loss: 0.0237 - accuracy: 0.9934\n",
      "Epoch 4: val_accuracy improved from 0.98612 to 0.99071, saving model to /Users/suchan/study/cnn_models/mnist-4-0.02835-0.99071.hdf5\n",
      "300/300 [==============================] - 5s 15ms/step - loss: 0.0237 - accuracy: 0.9934 - val_loss: 0.0284 - val_accuracy: 0.9907\n",
      "Epoch 5/100\n",
      "297/300 [============================>.] - ETA: 0s - loss: 0.0183 - accuracy: 0.9946\n",
      "Epoch 5: val_accuracy improved from 0.99071 to 0.99094, saving model to /Users/suchan/study/cnn_models/mnist-5-0.02670-0.99094.hdf5\n",
      "300/300 [==============================] - 5s 15ms/step - loss: 0.0183 - accuracy: 0.9945 - val_loss: 0.0267 - val_accuracy: 0.9909\n",
      "Epoch 6/100\n",
      "297/300 [============================>.] - ETA: 0s - loss: 0.0116 - accuracy: 0.9967\n",
      "Epoch 6: val_accuracy improved from 0.99094 to 0.99341, saving model to /Users/suchan/study/cnn_models/mnist-6-0.02167-0.99341.hdf5\n",
      "300/300 [==============================] - 5s 15ms/step - loss: 0.0116 - accuracy: 0.9967 - val_loss: 0.0217 - val_accuracy: 0.9934\n",
      "Epoch 7/100\n",
      "297/300 [============================>.] - ETA: 0s - loss: 0.0082 - accuracy: 0.9982\n",
      "Epoch 7: val_accuracy improved from 0.99341 to 0.99435, saving model to /Users/suchan/study/cnn_models/mnist-7-0.01948-0.99435.hdf5\n",
      "300/300 [==============================] - 5s 15ms/step - loss: 0.0082 - accuracy: 0.9982 - val_loss: 0.0195 - val_accuracy: 0.9944\n",
      "Epoch 8/100\n",
      "297/300 [============================>.] - ETA: 0s - loss: 0.0066 - accuracy: 0.9984\n",
      "Epoch 8: val_accuracy did not improve from 0.99435\n",
      "300/300 [==============================] - 5s 15ms/step - loss: 0.0066 - accuracy: 0.9984 - val_loss: 0.0200 - val_accuracy: 0.9941\n",
      "Epoch 9/100\n",
      "297/300 [============================>.] - ETA: 0s - loss: 0.0054 - accuracy: 0.9988\n",
      "Epoch 9: val_accuracy did not improve from 0.99435\n",
      "300/300 [==============================] - 5s 15ms/step - loss: 0.0054 - accuracy: 0.9988 - val_loss: 0.0221 - val_accuracy: 0.9934\n",
      "Epoch 10/100\n",
      "300/300 [==============================] - ETA: 0s - loss: 0.0053 - accuracy: 0.9988\n",
      "Epoch 10: val_accuracy did not improve from 0.99435\n",
      "300/300 [==============================] - 5s 15ms/step - loss: 0.0053 - accuracy: 0.9988 - val_loss: 0.0205 - val_accuracy: 0.9929\n",
      "Epoch 11/100\n",
      "300/300 [==============================] - ETA: 0s - loss: 0.0033 - accuracy: 0.9995\n",
      "Epoch 11: val_accuracy improved from 0.99435 to 0.99482, saving model to /Users/suchan/study/cnn_models/mnist-11-0.01776-0.99482.hdf5\n",
      "300/300 [==============================] - 5s 16ms/step - loss: 0.0033 - accuracy: 0.9995 - val_loss: 0.0178 - val_accuracy: 0.9948\n",
      "Epoch 12/100\n",
      "299/300 [============================>.] - ETA: 0s - loss: 0.0021 - accuracy: 0.9998\n",
      "Epoch 12: val_accuracy did not improve from 0.99482\n",
      "300/300 [==============================] - 5s 16ms/step - loss: 0.0021 - accuracy: 0.9998 - val_loss: 0.0177 - val_accuracy: 0.9946\n",
      "Epoch 13/100\n",
      "300/300 [==============================] - ETA: 0s - loss: 0.0020 - accuracy: 0.9998\n",
      "Epoch 13: val_accuracy did not improve from 0.99482\n",
      "300/300 [==============================] - 5s 16ms/step - loss: 0.0020 - accuracy: 0.9998 - val_loss: 0.0189 - val_accuracy: 0.9940\n",
      "Epoch 14/100\n",
      "300/300 [==============================] - ETA: 0s - loss: 0.0020 - accuracy: 0.9997\n",
      "Epoch 14: val_accuracy improved from 0.99482 to 0.99506, saving model to /Users/suchan/study/cnn_models/mnist-14-0.01766-0.99506.hdf5\n",
      "300/300 [==============================] - 5s 16ms/step - loss: 0.0020 - accuracy: 0.9997 - val_loss: 0.0177 - val_accuracy: 0.9951\n",
      "Epoch 15/100\n",
      "299/300 [============================>.] - ETA: 0s - loss: 0.0017 - accuracy: 0.9998\n",
      "Epoch 15: val_accuracy did not improve from 0.99506\n",
      "300/300 [==============================] - 5s 15ms/step - loss: 0.0017 - accuracy: 0.9998 - val_loss: 0.0194 - val_accuracy: 0.9946\n",
      "Epoch 16/100\n",
      "300/300 [==============================] - ETA: 0s - loss: 0.0015 - accuracy: 0.9999\n",
      "Epoch 16: val_accuracy improved from 0.99506 to 0.99553, saving model to /Users/suchan/study/cnn_models/mnist-16-0.01713-0.99553.hdf5\n",
      "300/300 [==============================] - 5s 16ms/step - loss: 0.0015 - accuracy: 0.9999 - val_loss: 0.0171 - val_accuracy: 0.9955\n",
      "Epoch 17/100\n",
      "298/300 [============================>.] - ETA: 0s - loss: 0.0012 - accuracy: 0.9999\n",
      "Epoch 17: val_accuracy did not improve from 0.99553\n",
      "300/300 [==============================] - 5s 15ms/step - loss: 0.0012 - accuracy: 0.9999 - val_loss: 0.0172 - val_accuracy: 0.9952\n",
      "Epoch 18/100\n",
      "299/300 [============================>.] - ETA: 0s - loss: 9.5130e-04 - accuracy: 1.0000\n",
      "Epoch 18: val_accuracy did not improve from 0.99553\n",
      "300/300 [==============================] - 5s 15ms/step - loss: 9.5056e-04 - accuracy: 1.0000 - val_loss: 0.0186 - val_accuracy: 0.9954\n",
      "Epoch 19/100\n",
      "300/300 [==============================] - ETA: 0s - loss: 0.0010 - accuracy: 0.9999    \n",
      "Epoch 19: val_accuracy did not improve from 0.99553\n",
      "300/300 [==============================] - 5s 15ms/step - loss: 0.0010 - accuracy: 0.9999 - val_loss: 0.0183 - val_accuracy: 0.9952\n",
      "Epoch 20/100\n",
      "300/300 [==============================] - ETA: 0s - loss: 9.4348e-04 - accuracy: 1.0000\n",
      "Epoch 20: val_accuracy did not improve from 0.99553\n",
      "300/300 [==============================] - 5s 15ms/step - loss: 9.4348e-04 - accuracy: 1.0000 - val_loss: 0.0188 - val_accuracy: 0.9951\n",
      "Epoch 21/100\n",
      "300/300 [==============================] - ETA: 0s - loss: 8.4779e-04 - accuracy: 0.9999\n",
      "Epoch 21: val_accuracy did not improve from 0.99553\n",
      "300/300 [==============================] - 5s 15ms/step - loss: 8.4779e-04 - accuracy: 0.9999 - val_loss: 0.0191 - val_accuracy: 0.9952\n",
      "Epoch 22/100\n",
      "299/300 [============================>.] - ETA: 0s - loss: 7.6645e-04 - accuracy: 1.0000\n",
      "Epoch 22: val_accuracy did not improve from 0.99553\n",
      "300/300 [==============================] - 5s 15ms/step - loss: 7.6504e-04 - accuracy: 1.0000 - val_loss: 0.0182 - val_accuracy: 0.9948\n"
     ]
    }
   ],
   "source": [
    "hist = model.fit(train_images, train_labels,\n",
    "                 validation_data=(valid_images, valid_labels),\n",
    "                 epochs=100, batch_size=batch_size,\n",
    "                 callbacks=[cb_checkpoint, cb_early_stopping])"
   ]
  },
  {
   "cell_type": "code",
   "execution_count": 45,
   "id": "6679dacd",
   "metadata": {
    "scrolled": false
   },
   "outputs": [
    {
     "data": {
      "image/png": "[encoded data removed]",
      "text/plain": [
       "<Figure size 460.8x403.2 with 2 Axes>"
      ]
     },
     "metadata": {},
     "output_type": "display_data"
    }
   ],
   "source": [
    "import matplotlib.pyplot as plt\n",
    "\n",
    "fig, loss_ax = plt.subplots()\n",
    "acc_ax = loss_ax.twinx()\n",
    "\n",
    "loss_ax.plot(hist.history['loss'], 'y', label='train_loss')\n",
    "loss_ax.plot(hist.history['val_loss'], 'r', label='valid_loss')\n",
    "loss_ax.set_xlabel('epochs')\n",
    "loss_ax.set_ylabel('loss')\n",
    "loss_ax.legend(loc='upper left')\n",
    "\n",
    "acc_ax.plot(hist.history['accuracy'], 'b', label='train_accuracy')\n",
    "acc_ax.plot(hist.history['val_accuracy'], 'g', label='valid_accuracy')\n",
    "acc_ax.set_xlabel('epochs')\n",
    "acc_ax.set_ylabel('accuracy')\n",
    "acc_ax.legend(loc='upper right', bbox_to_anchor=(1, 0.5))\n",
    "\n",
    "plt.show()"
   ]
  },
  {
   "cell_type": "markdown",
   "id": "5866f0ad",
   "metadata": {},
   "source": [
    "# VGG16"
   ]
  },
  {
   "cell_type": "code",
   "execution_count": 68,
   "id": "fb18fbd1",
   "metadata": {},
   "outputs": [],
   "source": [
    "import numpy as np\n",
    "from tensorflow.keras.applications import VGG16\n",
    "from tensorflow.keras.datasets import mnist\n",
    "from sklearn.model_selection import train_test_split"
   ]
  },
  {
   "cell_type": "code",
   "execution_count": 69,
   "id": "4b7f3f64",
   "metadata": {},
   "outputs": [
    {
     "name": "stdout",
     "output_type": "stream",
     "text": [
      "(60000, 28, 28) (10000, 28, 28)\n"
     ]
    }
   ],
   "source": [
    "(train_images, train_labels), (test_images, test_labels) = mnist.load_data()\n",
    "print(train_images.shape, test_images.shape)"
   ]
  },
  {
   "cell_type": "markdown",
   "id": "a44549ee",
   "metadata": {},
   "source": [
    "### VGG 디폴트 shape(3채널)에 데이터 맞추기"
   ]
  },
  {
   "cell_type": "code",
   "execution_count": 70,
   "id": "4b4478c1",
   "metadata": {},
   "outputs": [],
   "source": [
    "train_images = train_images.reshape(-1,784).astype('float32')\n",
    "test_images = test_images.reshape(-1, 784).astype('float32')"
   ]
  },
  {
   "cell_type": "code",
   "execution_count": 71,
   "id": "a02031ac",
   "metadata": {},
   "outputs": [],
   "source": [
    "train_images = np.dstack([train_images]*3)\n",
    "test_images = np.dstack([test_images]*3)"
   ]
  },
  {
   "cell_type": "code",
   "execution_count": 72,
   "id": "358f6f0f",
   "metadata": {},
   "outputs": [],
   "source": [
    "# 이미지 형식으로 변경\n",
    "train_images = train_images.reshape(-1,28,28,3)\n",
    "test_images = test_images.reshape(-1,28,28,3)"
   ]
  },
  {
   "cell_type": "code",
   "execution_count": 73,
   "id": "301a1c0b",
   "metadata": {},
   "outputs": [],
   "source": [
    "from tensorflow.keras.preprocessing.image import img_to_array, array_to_img"
   ]
  },
  {
   "cell_type": "code",
   "execution_count": 74,
   "id": "2bc907c0",
   "metadata": {},
   "outputs": [],
   "source": [
    "# 48 * 48 사이즈로 변경\n",
    "train_images = np.asarray([img_to_array(array_to_img(img, scale=False).resize((48,48))) for img in train_images])\n",
    "test_images = np.asarray([img_to_array(array_to_img(img, scale=False).resize((48,48))) for img in test_images])\n",
    "valid_images = np.asarray([img_to_array(array_to_img(img, scale=False).resize((48,48))) for img in valid_images])"
   ]
  },
  {
   "cell_type": "code",
   "execution_count": 75,
   "id": "8b0053c0",
   "metadata": {},
   "outputs": [],
   "source": [
    "train_images = train_images/255.\n",
    "test_images = test_images/255."
   ]
  },
  {
   "cell_type": "code",
   "execution_count": 76,
   "id": "105e817a",
   "metadata": {},
   "outputs": [],
   "source": [
    "valid_images, test_images, valid_labels, test_labels = train_test_split(test_images, test_labels, test_size=0.15, shuffle=True)"
   ]
  },
  {
   "cell_type": "code",
   "execution_count": 77,
   "id": "f8e319c5",
   "metadata": {
    "scrolled": true
   },
   "outputs": [
    {
     "name": "stdout",
     "output_type": "stream",
     "text": [
      "Model: \"vgg16\"\n",
      "_________________________________________________________________\n",
      " Layer (type)                Output Shape              Param #   \n",
      "=================================================================\n",
      " input_3 (InputLayer)        [(None, 48, 48, 3)]       0         \n",
      "                                                                 \n",
      " block1_conv1 (Conv2D)       (None, 48, 48, 64)        1792      \n",
      "                                                                 \n",
      " block1_conv2 (Conv2D)       (None, 48, 48, 64)        36928     \n",
      "                                                                 \n",
      " block1_pool (MaxPooling2D)  (None, 24, 24, 64)        0         \n",
      "                                                                 \n",
      " block2_conv1 (Conv2D)       (None, 24, 24, 128)       73856     \n",
      "                                                                 \n",
      " block2_conv2 (Conv2D)       (None, 24, 24, 128)       147584    \n",
      "                                                                 \n",
      " block2_pool (MaxPooling2D)  (None, 12, 12, 128)       0         \n",
      "                                                                 \n",
      " block3_conv1 (Conv2D)       (None, 12, 12, 256)       295168    \n",
      "                                                                 \n",
      " block3_conv2 (Conv2D)       (None, 12, 12, 256)       590080    \n",
      "                                                                 \n",
      " block3_conv3 (Conv2D)       (None, 12, 12, 256)       590080    \n",
      "                                                                 \n",
      " block3_pool (MaxPooling2D)  (None, 6, 6, 256)         0         \n",
      "                                                                 \n",
      " block4_conv1 (Conv2D)       (None, 6, 6, 512)         1180160   \n",
      "                                                                 \n",
      " block4_conv2 (Conv2D)       (None, 6, 6, 512)         2359808   \n",
      "                                                                 \n",
      " block4_conv3 (Conv2D)       (None, 6, 6, 512)         2359808   \n",
      "                                                                 \n",
      " block4_pool (MaxPooling2D)  (None, 3, 3, 512)         0         \n",
      "                                                                 \n",
      " block5_conv1 (Conv2D)       (None, 3, 3, 512)         2359808   \n",
      "                                                                 \n",
      " block5_conv2 (Conv2D)       (None, 3, 3, 512)         2359808   \n",
      "                                                                 \n",
      " block5_conv3 (Conv2D)       (None, 3, 3, 512)         2359808   \n",
      "                                                                 \n",
      " block5_pool (MaxPooling2D)  (None, 1, 1, 512)         0         \n",
      "                                                                 \n",
      "=================================================================\n",
      "Total params: 14,714,688\n",
      "Trainable params: 14,714,688\n",
      "Non-trainable params: 0\n",
      "_________________________________________________________________\n"
     ]
    }
   ],
   "source": [
    "vgg_model = VGG16(weights='imagenet', include_top=False, input_shape=(48,48,3))\n",
    "vgg_model.summary()"
   ]
  },
  {
   "cell_type": "code",
   "execution_count": 78,
   "id": "70883320",
   "metadata": {
    "scrolled": true
   },
   "outputs": [
    {
     "data": {
      "text/plain": [
       "{'input_3': <keras.engine.input_layer.InputLayer at 0x326119760>,\n",
       " 'block1_conv1': <keras.layers.convolutional.Conv2D at 0x32982fc10>,\n",
       " 'block1_conv2': <keras.layers.convolutional.Conv2D at 0x32982f6d0>,\n",
       " 'block1_pool': <keras.layers.pooling.MaxPooling2D at 0x32982ffd0>,\n",
       " 'block2_conv1': <keras.layers.convolutional.Conv2D at 0x326233820>,\n",
       " 'block2_conv2': <keras.layers.convolutional.Conv2D at 0x329802b80>,\n",
       " 'block2_pool': <keras.layers.pooling.MaxPooling2D at 0x3261197f0>,\n",
       " 'block3_conv1': <keras.layers.convolutional.Conv2D at 0x32618f850>,\n",
       " 'block3_conv2': <keras.layers.convolutional.Conv2D at 0x326102220>,\n",
       " 'block3_conv3': <keras.layers.convolutional.Conv2D at 0x326191730>,\n",
       " 'block3_pool': <keras.layers.pooling.MaxPooling2D at 0x329a6aee0>,\n",
       " 'block4_conv1': <keras.layers.convolutional.Conv2D at 0x31f9405e0>,\n",
       " 'block4_conv2': <keras.layers.convolutional.Conv2D at 0x32984ddc0>,\n",
       " 'block4_conv3': <keras.layers.convolutional.Conv2D at 0x3260128b0>,\n",
       " 'block4_pool': <keras.layers.pooling.MaxPooling2D at 0x32618f430>,\n",
       " 'block5_conv1': <keras.layers.convolutional.Conv2D at 0x31f9904f0>,\n",
       " 'block5_conv2': <keras.layers.convolutional.Conv2D at 0x32621cca0>,\n",
       " 'block5_conv3': <keras.layers.convolutional.Conv2D at 0x32600cc40>,\n",
       " 'block5_pool': <keras.layers.pooling.MaxPooling2D at 0x31f990bb0>}"
      ]
     },
     "execution_count": 78,
     "metadata": {},
     "output_type": "execute_result"
    }
   ],
   "source": [
    "layer_dict = {layer.name : layer for layer in vgg_model.layers}\n",
    "layer_dict"
   ]
  },
  {
   "cell_type": "code",
   "execution_count": 79,
   "id": "bc4c618e",
   "metadata": {},
   "outputs": [],
   "source": [
    "x = layer_dict['block2_conv2'].output\n",
    "\n",
    "x = Conv2D(filters=64, kernel_size=(3,3), activation='relu')(x)\n",
    "x = MaxPool2D()(x)\n",
    "x = Flatten()(x)\n",
    "x = Dense(256, activation='relu')(x)\n",
    "x = Dropout(0.3)(x)\n",
    "x = Dense(10, activation='softmax')(x)"
   ]
  },
  {
   "cell_type": "code",
   "execution_count": 80,
   "id": "b640f203",
   "metadata": {
    "scrolled": true
   },
   "outputs": [
    {
     "name": "stdout",
     "output_type": "stream",
     "text": [
      "Model: \"model_1\"\n",
      "_________________________________________________________________\n",
      " Layer (type)                Output Shape              Param #   \n",
      "=================================================================\n",
      " input_3 (InputLayer)        [(None, 48, 48, 3)]       0         \n",
      "                                                                 \n",
      " block1_conv1 (Conv2D)       (None, 48, 48, 64)        1792      \n",
      "                                                                 \n",
      " block1_conv2 (Conv2D)       (None, 48, 48, 64)        36928     \n",
      "                                                                 \n",
      " block1_pool (MaxPooling2D)  (None, 24, 24, 64)        0         \n",
      "                                                                 \n",
      " block2_conv1 (Conv2D)       (None, 24, 24, 128)       73856     \n",
      "                                                                 \n",
      " block2_conv2 (Conv2D)       (None, 24, 24, 128)       147584    \n",
      "                                                                 \n",
      " conv2d_20 (Conv2D)          (None, 22, 22, 64)        73792     \n",
      "                                                                 \n",
      " max_pooling2d_13 (MaxPoolin  (None, 11, 11, 64)       0         \n",
      " g2D)                                                            \n",
      "                                                                 \n",
      " flatten_7 (Flatten)         (None, 7744)              0         \n",
      "                                                                 \n",
      " dense_4 (Dense)             (None, 256)               1982720   \n",
      "                                                                 \n",
      " dropout_2 (Dropout)         (None, 256)               0         \n",
      "                                                                 \n",
      " dense_5 (Dense)             (None, 10)                2570      \n",
      "                                                                 \n",
      "=================================================================\n",
      "Total params: 2,319,242\n",
      "Trainable params: 2,319,242\n",
      "Non-trainable params: 0\n",
      "_________________________________________________________________\n"
     ]
    }
   ],
   "source": [
    "custom_model = Model(inputs=vgg_model.input, outputs=x)\n",
    "custom_model.summary()"
   ]
  },
  {
   "cell_type": "code",
   "execution_count": 81,
   "id": "bde8fac6",
   "metadata": {},
   "outputs": [],
   "source": [
    "for layer in custom_model.layers[:7]:\n",
    "    layer.trainable = False\n",
    "\n",
    "custom_model.compile(optimizer='adam', loss='sparse_categorical_crossentropy', metrics=['accuracy'])"
   ]
  },
  {
   "cell_type": "code",
   "execution_count": 82,
   "id": "8da2cad3",
   "metadata": {},
   "outputs": [],
   "source": [
    "from tensorflow.keras.callbacks import ModelCheckpoint, EarlyStopping\n",
    "\n",
    "MODEL_SAVE_FOLDER = '/Users/suchan/study/cnn_models/'\n",
    "model_path = f\"{MODEL_SAVE_FOLDER}mnist-{{epoch:d}}-{{val_loss:.5f}}-{{val_accuracy:.5f}}.hdf5\"\n",
    "\n",
    "# save best only = val_accuracy가 있는 값들 중 좋아진 경우에만 save\n",
    "# save weight only = 모델의 weight값만 갖고옴\n",
    "cb_checkpoint = ModelCheckpoint(filepath=model_path,\n",
    "                                monitor='val_accuracy',\n",
    "                                verbose=1,\n",
    "                                save_weights_only=True,\n",
    "                                save_best_only=True)\n",
    "\n",
    "# patience = val_accuracy가 연속으로 n번 떨어지면 STOP\n",
    "cb_early_stopping = EarlyStopping(monitor='val_accuracy', patience=6)"
   ]
  },
  {
   "cell_type": "code",
   "execution_count": 83,
   "id": "60a827f8",
   "metadata": {},
   "outputs": [
    {
     "name": "stdout",
     "output_type": "stream",
     "text": [
      "Epoch 1/100\n"
     ]
    },
    {
     "name": "stderr",
     "output_type": "stream",
     "text": [
      "2022-03-04 15:56:26.283112: I tensorflow/core/grappler/optimizers/custom_graph_optimizer_registry.cc:113] Plugin optimizer for device_type GPU is enabled.\n"
     ]
    },
    {
     "name": "stdout",
     "output_type": "stream",
     "text": [
      "299/300 [============================>.] - ETA: 0s - loss: 1.6394 - accuracy: 0.8419"
     ]
    },
    {
     "name": "stderr",
     "output_type": "stream",
     "text": [
      "2022-03-04 15:56:37.959150: I tensorflow/core/grappler/optimizers/custom_graph_optimizer_registry.cc:113] Plugin optimizer for device_type GPU is enabled.\n"
     ]
    },
    {
     "name": "stdout",
     "output_type": "stream",
     "text": [
      "\n",
      "Epoch 1: val_accuracy improved from -inf to 0.97153, saving model to /Users/suchan/study/cnn_models/mnist-1-0.10412-0.97153.hdf5\n",
      "300/300 [==============================] - 13s 43ms/step - loss: 1.6349 - accuracy: 0.8422 - val_loss: 0.1041 - val_accuracy: 0.9715\n",
      "Epoch 2/100\n",
      "299/300 [============================>.] - ETA: 0s - loss: 0.1987 - accuracy: 0.9387\n",
      "Epoch 2: val_accuracy improved from 0.97153 to 0.97859, saving model to /Users/suchan/study/cnn_models/mnist-2-0.07133-0.97859.hdf5\n",
      "300/300 [==============================] - 13s 42ms/step - loss: 0.1988 - accuracy: 0.9387 - val_loss: 0.0713 - val_accuracy: 0.9786\n",
      "Epoch 3/100\n",
      "299/300 [============================>.] - ETA: 0s - loss: 0.1535 - accuracy: 0.9526\n",
      "Epoch 3: val_accuracy did not improve from 0.97859\n",
      "300/300 [==============================] - 13s 42ms/step - loss: 0.1536 - accuracy: 0.9526 - val_loss: 0.0778 - val_accuracy: 0.9773\n",
      "Epoch 4/100\n",
      "299/300 [============================>.] - ETA: 0s - loss: 0.1524 - accuracy: 0.9524\n",
      "Epoch 4: val_accuracy improved from 0.97859 to 0.98094, saving model to /Users/suchan/study/cnn_models/mnist-4-0.06810-0.98094.hdf5\n",
      "300/300 [==============================] - 13s 42ms/step - loss: 0.1521 - accuracy: 0.9525 - val_loss: 0.0681 - val_accuracy: 0.9809\n",
      "Epoch 5/100\n",
      "299/300 [============================>.] - ETA: 0s - loss: 0.1549 - accuracy: 0.9517\n",
      "Epoch 5: val_accuracy improved from 0.98094 to 0.98471, saving model to /Users/suchan/study/cnn_models/mnist-5-0.04594-0.98471.hdf5\n",
      "300/300 [==============================] - 13s 43ms/step - loss: 0.1549 - accuracy: 0.9517 - val_loss: 0.0459 - val_accuracy: 0.9847\n",
      "Epoch 6/100\n",
      "299/300 [============================>.] - ETA: 0s - loss: 0.1279 - accuracy: 0.9606\n",
      "Epoch 6: val_accuracy did not improve from 0.98471\n",
      "300/300 [==============================] - 13s 42ms/step - loss: 0.1279 - accuracy: 0.9606 - val_loss: 0.0509 - val_accuracy: 0.9846\n",
      "Epoch 7/100\n",
      "299/300 [============================>.] - ETA: 0s - loss: 0.1136 - accuracy: 0.9646\n",
      "Epoch 7: val_accuracy improved from 0.98471 to 0.98565, saving model to /Users/suchan/study/cnn_models/mnist-7-0.04494-0.98565.hdf5\n",
      "300/300 [==============================] - 13s 42ms/step - loss: 0.1134 - accuracy: 0.9647 - val_loss: 0.0449 - val_accuracy: 0.9856\n",
      "Epoch 8/100\n",
      "299/300 [============================>.] - ETA: 0s - loss: 0.1078 - accuracy: 0.9662\n",
      "Epoch 8: val_accuracy did not improve from 0.98565\n",
      "300/300 [==============================] - 13s 42ms/step - loss: 0.1078 - accuracy: 0.9662 - val_loss: 0.0478 - val_accuracy: 0.9840\n",
      "Epoch 9/100\n",
      "299/300 [============================>.] - ETA: 0s - loss: 0.1202 - accuracy: 0.9614\n",
      "Epoch 9: val_accuracy did not improve from 0.98565\n",
      "300/300 [==============================] - 13s 42ms/step - loss: 0.1203 - accuracy: 0.9613 - val_loss: 0.0528 - val_accuracy: 0.9838\n",
      "Epoch 10/100\n",
      "299/300 [============================>.] - ETA: 0s - loss: 0.1155 - accuracy: 0.9635\n",
      "Epoch 10: val_accuracy did not improve from 0.98565\n",
      "300/300 [==============================] - 13s 42ms/step - loss: 0.1155 - accuracy: 0.9635 - val_loss: 0.0611 - val_accuracy: 0.9821\n",
      "Epoch 11/100\n",
      "300/300 [==============================] - ETA: 0s - loss: 0.0897 - accuracy: 0.9715\n",
      "Epoch 11: val_accuracy improved from 0.98565 to 0.98718, saving model to /Users/suchan/study/cnn_models/mnist-11-0.04688-0.98718.hdf5\n",
      "300/300 [==============================] - 13s 43ms/step - loss: 0.0897 - accuracy: 0.9715 - val_loss: 0.0469 - val_accuracy: 0.9872\n",
      "Epoch 12/100\n",
      "299/300 [============================>.] - ETA: 0s - loss: 0.0974 - accuracy: 0.9694\n",
      "Epoch 12: val_accuracy did not improve from 0.98718\n",
      "300/300 [==============================] - 13s 42ms/step - loss: 0.0976 - accuracy: 0.9694 - val_loss: 0.0452 - val_accuracy: 0.9872\n",
      "Epoch 13/100\n",
      "299/300 [============================>.] - ETA: 0s - loss: 0.0907 - accuracy: 0.9703\n",
      "Epoch 13: val_accuracy did not improve from 0.98718\n",
      "300/300 [==============================] - 13s 42ms/step - loss: 0.0905 - accuracy: 0.9703 - val_loss: 0.0500 - val_accuracy: 0.9860\n",
      "Epoch 14/100\n",
      "299/300 [============================>.] - ETA: 0s - loss: 0.0937 - accuracy: 0.9698\n",
      "Epoch 14: val_accuracy did not improve from 0.98718\n",
      "300/300 [==============================] - 13s 42ms/step - loss: 0.0938 - accuracy: 0.9697 - val_loss: 0.0445 - val_accuracy: 0.9860\n",
      "Epoch 15/100\n",
      "299/300 [============================>.] - ETA: 0s - loss: 0.0779 - accuracy: 0.9754\n",
      "Epoch 15: val_accuracy did not improve from 0.98718\n",
      "300/300 [==============================] - 13s 42ms/step - loss: 0.0780 - accuracy: 0.9754 - val_loss: 0.0475 - val_accuracy: 0.9867\n",
      "Epoch 16/100\n",
      "299/300 [============================>.] - ETA: 0s - loss: 0.0803 - accuracy: 0.9739\n",
      "Epoch 16: val_accuracy improved from 0.98718 to 0.98835, saving model to /Users/suchan/study/cnn_models/mnist-16-0.04035-0.98835.hdf5\n",
      "300/300 [==============================] - 13s 42ms/step - loss: 0.0804 - accuracy: 0.9739 - val_loss: 0.0404 - val_accuracy: 0.9884\n",
      "Epoch 17/100\n",
      "299/300 [============================>.] - ETA: 0s - loss: 0.0795 - accuracy: 0.9744\n",
      "Epoch 17: val_accuracy did not improve from 0.98835\n",
      "300/300 [==============================] - 13s 42ms/step - loss: 0.0795 - accuracy: 0.9744 - val_loss: 0.0508 - val_accuracy: 0.9840\n",
      "Epoch 18/100\n",
      "299/300 [============================>.] - ETA: 0s - loss: 0.0818 - accuracy: 0.9728\n",
      "Epoch 18: val_accuracy did not improve from 0.98835\n",
      "300/300 [==============================] - 13s 42ms/step - loss: 0.0817 - accuracy: 0.9729 - val_loss: 0.0400 - val_accuracy: 0.9875\n",
      "Epoch 19/100\n",
      "299/300 [============================>.] - ETA: 0s - loss: 0.0798 - accuracy: 0.9734\n",
      "Epoch 19: val_accuracy did not improve from 0.98835\n",
      "300/300 [==============================] - 13s 42ms/step - loss: 0.0798 - accuracy: 0.9734 - val_loss: 0.0465 - val_accuracy: 0.9876\n",
      "Epoch 20/100\n",
      "299/300 [============================>.] - ETA: 0s - loss: 0.0819 - accuracy: 0.9742\n",
      "Epoch 20: val_accuracy did not improve from 0.98835\n",
      "300/300 [==============================] - 13s 42ms/step - loss: 0.0818 - accuracy: 0.9742 - val_loss: 0.0418 - val_accuracy: 0.9878\n",
      "Epoch 21/100\n",
      "299/300 [============================>.] - ETA: 0s - loss: 0.0639 - accuracy: 0.9786\n",
      "Epoch 21: val_accuracy improved from 0.98835 to 0.99059, saving model to /Users/suchan/study/cnn_models/mnist-21-0.03736-0.99059.hdf5\n",
      "300/300 [==============================] - 13s 42ms/step - loss: 0.0639 - accuracy: 0.9786 - val_loss: 0.0374 - val_accuracy: 0.9906\n",
      "Epoch 22/100\n",
      "299/300 [============================>.] - ETA: 0s - loss: 0.0735 - accuracy: 0.9765\n",
      "Epoch 22: val_accuracy did not improve from 0.99059\n",
      "300/300 [==============================] - 13s 43ms/step - loss: 0.0738 - accuracy: 0.9765 - val_loss: 0.0501 - val_accuracy: 0.9869\n",
      "Epoch 23/100\n",
      "299/300 [============================>.] - ETA: 0s - loss: 0.0673 - accuracy: 0.9779\n",
      "Epoch 23: val_accuracy did not improve from 0.99059\n",
      "300/300 [==============================] - 13s 44ms/step - loss: 0.0672 - accuracy: 0.9779 - val_loss: 0.0382 - val_accuracy: 0.9899\n",
      "Epoch 24/100\n",
      "299/300 [============================>.] - ETA: 0s - loss: 0.0607 - accuracy: 0.9796\n",
      "Epoch 24: val_accuracy did not improve from 0.99059\n",
      "300/300 [==============================] - 14s 46ms/step - loss: 0.0607 - accuracy: 0.9796 - val_loss: 0.0479 - val_accuracy: 0.9871\n",
      "Epoch 25/100\n",
      "299/300 [============================>.] - ETA: 0s - loss: 0.0697 - accuracy: 0.9771\n",
      "Epoch 25: val_accuracy did not improve from 0.99059\n",
      "300/300 [==============================] - 14s 47ms/step - loss: 0.0698 - accuracy: 0.9771 - val_loss: 0.0567 - val_accuracy: 0.9861\n",
      "Epoch 26/100\n",
      "299/300 [============================>.] - ETA: 0s - loss: 0.0801 - accuracy: 0.9736\n",
      "Epoch 26: val_accuracy did not improve from 0.99059\n",
      "300/300 [==============================] - 15s 49ms/step - loss: 0.0804 - accuracy: 0.9736 - val_loss: 0.0584 - val_accuracy: 0.9855\n",
      "Epoch 27/100\n",
      "300/300 [==============================] - ETA: 0s - loss: 0.0751 - accuracy: 0.9755\n",
      "Epoch 27: val_accuracy did not improve from 0.99059\n",
      "300/300 [==============================] - 15s 49ms/step - loss: 0.0751 - accuracy: 0.9755 - val_loss: 0.0584 - val_accuracy: 0.9862\n"
     ]
    }
   ],
   "source": [
    "hist = custom_model.fit(train_images, train_labels,\n",
    "                 validation_data=(valid_images, valid_labels),\n",
    "                 epochs=100, batch_size=batch_size,\n",
    "                 callbacks=[cb_checkpoint, cb_early_stopping])"
   ]
  },
  {
   "cell_type": "code",
   "execution_count": 84,
   "id": "7e9db80c",
   "metadata": {},
   "outputs": [
    {
     "name": "stdout",
     "output_type": "stream",
     "text": [
      "47/47 [==============================] - 1s 11ms/step - loss: 0.0813 - accuracy: 0.9813\n"
     ]
    },
    {
     "data": {
      "text/plain": [
       "[0.0812864750623703, 0.981333315372467]"
      ]
     },
     "execution_count": 84,
     "metadata": {},
     "output_type": "execute_result"
    }
   ],
   "source": [
    "saved_path = '/Users/suchan/study/cnn_models/mnist-21-0.03736-0.99059.hdf5'\n",
    "custom_model.load_weights(saved_path)\n",
    "\n",
    "custom_model.evaluate(test_images, test_labels)"
   ]
  },
  {
   "cell_type": "code",
   "execution_count": null,
   "id": "fc90ba72",
   "metadata": {},
   "outputs": [],
   "source": []
  }
 ],
 "metadata": {
  "kernelspec": {
   "display_name": "Python 3 (ipykernel)",
   "language": "python",
   "name": "python3"
  },
  "language_info": {
   "codemirror_mode": {
    "name": "ipython",
    "version": 3
   },
   "file_extension": ".py",
   "mimetype": "text/x-python",
   "name": "python",
   "nbconvert_exporter": "python",
   "pygments_lexer": "ipython3",
   "version": "3.8.12"
  }
 },
 "nbformat": 4,
 "nbformat_minor": 5
}
