{
 "cells": [
  {
   "cell_type": "code",
   "execution_count": 1,
   "metadata": {},
   "outputs": [
    {
     "name": "stdout",
     "output_type": "stream",
     "text": [
      "*********\n",
      "* ** ** *\n",
      "*********\n",
      "***   ***\n",
      "* *   * *\n",
      "***   ***\n",
      "*********\n",
      "* ** ** *\n",
      "*********\n"
     ]
    }
   ],
   "source": [
    "def draw_star(n):\n",
    "    if n == 1:\n",
    "        return [\"*\"]\n",
    "    \n",
    "    stars = draw_star(n//3)\n",
    "    line = []\n",
    "\n",
    "    for star in stars:\n",
    "        line.append(star * 3)\n",
    "    for star in stars:\n",
    "        line.append(star + ' '*(n//3) + star)\n",
    "    for star in stars:\n",
    "        line.append(star * 3)\n",
    "\n",
    "    return line\n",
    "\n",
    "n = int(input())\n",
    "print('\\n'.join(draw_star(n)))"
   ]
  },
  {
   "cell_type": "code",
   "execution_count": null,
   "metadata": {},
   "outputs": [],
   "source": []
  }
 ],
 "metadata": {
  "interpreter": {
   "hash": "9e5ba8102417ed24000ae30d0ee823b0df91ab90972766c536e2f5d51ee26514"
  },
  "kernelspec": {
   "display_name": "Python 3.9.10 ('study')",
   "language": "python",
   "name": "python3"
  },
  "language_info": {
   "codemirror_mode": {
    "name": "ipython",
    "version": 3
   },
   "file_extension": ".py",
   "mimetype": "text/x-python",
   "name": "python",
   "nbconvert_exporter": "python",
   "pygments_lexer": "ipython3",
   "version": "3.9.10"
  },
  "orig_nbformat": 4
 },
 "nbformat": 4,
 "nbformat_minor": 2
}
